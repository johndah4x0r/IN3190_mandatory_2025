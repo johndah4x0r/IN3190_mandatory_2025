{
 "cells": [
  {
   "cell_type": "markdown",
   "id": "e3195500-fd21-41a3-8215-c53d99c36804",
   "metadata": {
    "editable": true,
    "slideshow": {
     "slide_type": ""
    },
    "tags": [
     "hide-cell"
    ]
   },
   "source": [
    "---\n",
    "title: \"FYS3220 -- LAB B: Common electrical circuits\"\n",
    "author: \"John Isaac Calderon\"\n",
    "exports:\n",
    "  - format: pdf\n",
    "    template: plain_latex\n",
    "    article_type: Report\n",
    "numbering:\n",
    "    heading_1: true\n",
    "    heading_2: true\n",
    "    heading_3: true\n",
    "---"
   ]
  },
  {
   "cell_type": "markdown",
   "id": "d0247f22-4d81-46b7-a55c-25a15ad722a5",
   "metadata": {
    "editable": true,
    "slideshow": {
     "slide_type": ""
    },
    "tags": [
     "hide-cell"
    ]
   },
   "source": [
    "# Administration - preamble\n",
    "If you are seeing this section, then this notebook has been improperly rendered - and will be littered with code and other cells that are supposed to be hidden from general readers."
   ]
  },
  {
   "cell_type": "code",
   "execution_count": 1,
   "id": "c8c1b6e3-b407-49b5-9db4-57aedd1d296e",
   "metadata": {
    "editable": true,
    "slideshow": {
     "slide_type": ""
    },
    "tags": [
     "hide-cell"
    ]
   },
   "outputs": [
    {
     "name": "stderr",
     "output_type": "stream",
     "text": [
      " I: Executing preamble code...\n"
     ]
    }
   ],
   "source": [
    "import os\n",
    "import sys\n",
    "import shutil\n",
    "\n",
    "print(\" I: Executing preamble code...\", file=sys.stderr)"
   ]
  },
  {
   "cell_type": "code",
   "execution_count": 2,
   "id": "f1e21a91-95a6-44f3-a48d-f81b9908018e",
   "metadata": {
    "editable": true,
    "slideshow": {
     "slide_type": ""
    },
    "tags": [
     "hide-cell"
    ]
   },
   "outputs": [
    {
     "name": "stderr",
     "output_type": "stream",
     "text": [
      "  > Current directory: /home/johnc/Projects/IN3190_mandatory_2025\n",
      "  > Target notebook: IN3190_mandatory_2025.ipynb\n",
      "  > Output file: IN3190_mandatory_2025.pdf\n",
      "  > Figures directory: /home/johnc/Projects/IN3190_mandatory_2025/tmpfigs\n"
     ]
    }
   ],
   "source": [
    "# --- Preamble code START --- #\n",
    "\n",
    "from IPython.display import display, Markdown, Latex\n",
    "import math\n",
    "\n",
    "# Necessary modules for parsing and general analysis\n",
    "import matplotlib as mpl\n",
    "import matplotlib.pyplot as plt\n",
    "import numpy as np\n",
    "import scipy\n",
    "\n",
    "# OS-related hooks\n",
    "import os\n",
    "import sys\n",
    "\n",
    "# Import sub-scripts\n",
    "# - these scripts satisfy tasks 1, 2, 3\n",
    "from scripts import run_provided, task_2, task_3\n",
    "\n",
    "# - Definitions - #\n",
    "\n",
    "# Set the notebook name\n",
    "docname = \"IN3190_mandatory_2025\"\n",
    "nbname = f\"{docname}.ipynb\"\n",
    "pdfname = f\"{docname}.pdf\"\n",
    "\n",
    "cwd = os.path.realpath(\".\")\n",
    "assert len(cwd) > 0 and cwd != \"/\"\n",
    "\n",
    "# Initialize temporary figures directory\n",
    "figsdir = \"tmpfigs\"\n",
    "figsdir_full = os.path.join(cwd, figsdir)\n",
    "\n",
    "if os.path.exists(figsdir):\n",
    "    shutil.rmtree(figsdir)\n",
    "\n",
    "os.mkdir(figsdir)\n",
    "\n",
    "print(f\"  > Current directory: {cwd}\", file=sys.stderr)\n",
    "print(f\"  > Target notebook: {nbname}\", file=sys.stderr)\n",
    "print(f\"  > Output file: {pdfname}\", file=sys.stderr)\n",
    "print(f\"  > Figures directory: {figsdir_full}\", file=sys.stderr)\n",
    "\n",
    "# Define a counter variable for the figures\n",
    "FIG_CTR = 1\n",
    "\n",
    "\n",
    "# - Functions - #\n",
    "\n",
    "# Clear the page\n",
    "def clearpage() -> None:\n",
    "    display(Latex(r\"\\clearpage\"))\n",
    "\n",
    "    \n",
    "# Display a generic image figure\n",
    "def disp_imgfig(img: str, desc: str, preamble: str = \"\") -> None:\n",
    "    global FIG_CTR\n",
    "\n",
    "    # Make sure the file even exists\n",
    "    if not os.path.exists(img):\n",
    "        raise ValueError(f\"Provided image file '{img}' does not exist.\")\n",
    "\n",
    "    # Create caption\n",
    "    caption = f\"**Figure {FIG_CTR}:** {desc}\"\n",
    "\n",
    "    # Create Markdown sequence\n",
    "    md = f\"|![{desc}]({img})|\\n|:--:|\\n|{caption}|\"\n",
    "\n",
    "    if preamble:\n",
    "        md = preamble + \"\\n\\n\" + md\n",
    "\n",
    "    # Display the sequence\n",
    "    display(Markdown(md))\n",
    "\n",
    "    # Increment the figure counter\n",
    "    FIG_CTR += 1\n",
    "\n",
    "\n",
    "# Display two generic image figures\n",
    "def disp_imgfig2(img1: str, img2: str, desc1: str, desc2: str, preamble: str = \"\") -> None:\n",
    "    global FIG_CTR\n",
    "\n",
    "    # Make sure the files even exist\n",
    "    if not os.path.exists(img1):\n",
    "        raise ValueError(f\"Provided image file '{img1}' does not exist.\")\n",
    "\n",
    "    if not os.path.exists(img2):\n",
    "        raise ValueError(f\"Provided image file '{img2}' does not exist.\")\n",
    "\n",
    "    # Create caption\n",
    "    caption1 = f\"**Figure {FIG_CTR}:** {desc1}\"\n",
    "    caption2 = f\"**Figure {FIG_CTR+1}:** {desc2}\"\n",
    "\n",
    "    caption = caption1 + \"\\\\\\n\" + caption2\n",
    "    \n",
    "    # Create Markdown sequence\n",
    "    md = f\"|![{desc1}]({img1})|![{desc2}]({img2})|\\n|:--:|:--:|\\n|{caption1}|{caption2}|\"\n",
    "\n",
    "    if preamble:\n",
    "        md = preamble + \"\\n\\n\" + md\n",
    "\n",
    "    # Display the sequence\n",
    "    display(Markdown(md))\n",
    "\n",
    "    # Increment the figure counter\n",
    "    FIG_CTR += 2\n",
    "\n",
    "\n",
    "# Display a Pyplot figure\n",
    "def disp_pltfig(fig: plt.Figure, desc: str, preamble: str = \"\") -> None:    \n",
    "    global FIG_CTR\n",
    "    \n",
    "    # Save the figure as an image file, using the current\n",
    "    # figure counter to discriminate between figures\n",
    "    figfile = f\"{figsdir}/tmpfig_{FIG_CTR}.pdf\"\n",
    "\n",
    "    # Save the figure and close it, so that\n",
    "    # the notebook isn't littered with\n",
    "    # orphaned figures\n",
    "    fig.savefig(figfile, bbox_inches=\"tight\", dpi=600)\n",
    "    plt.close(fig)\n",
    "\n",
    "    disp_imgfig(figfile, desc, preamble)\n",
    "\n",
    "\n",
    "# Display two Pyplot figures\n",
    "def disp_pltfig2(fig1: plt.Figure, fig2: plt.Figure, desc1: str, desc2: str, preamble: str = \"\") -> None:    \n",
    "    global FIG_CTR\n",
    "    \n",
    "    # Save the figure as an image file, using the current\n",
    "    # figure counter to discriminate between figures\n",
    "    figfile_1 = f\"{figsdir}/tmpfig_{FIG_CTR}.pdf\"\n",
    "    figfile_2 = f\"{figsdir}/tmpfig_{FIG_CTR+1}.pdf\"\n",
    "\n",
    "    # Save the figure and close it, so that\n",
    "    # the notebook isn't littered with\n",
    "    # orphaned figures\n",
    "    fig1.savefig(figfile_1, bbox_inches=\"tight\", dpi=600)\n",
    "    fig2.savefig(figfile_2, bbox_inches=\"tight\", dpi=600)\n",
    "    plt.close(fig1)\n",
    "    plt.close(fig2)\n",
    "\n",
    "    disp_imgfig2(figfile_1, figfile_2, desc1, desc2, preamble)\n",
    "\n",
    "\n",
    "# Find the `x` coordinates that satisfy `y1[...] == y2`\n",
    "def where_is(\n",
    "    x: np.ndarray, \n",
    "    y1: np.ndarray, \n",
    "    y2: float, \n",
    "    err: float = 1.0e-3\n",
    ") -> list[float]:\n",
    "    assert len(x) == len(y1)\n",
    "\n",
    "    a = []\n",
    "\n",
    "    for u, v in zip(x, y1):\n",
    "        if math.isclose(v, y2, rel_tol=err):\n",
    "            a.append(u)\n",
    "\n",
    "    return np.array(a)\n",
    "\n",
    "    \n",
    "# --- Preamble code END --- #"
   ]
  },
  {
   "cell_type": "code",
   "execution_count": 3,
   "id": "f89dd5b9-7ff5-4408-bb81-42851d06d8a1",
   "metadata": {
    "editable": true,
    "slideshow": {
     "slide_type": ""
    },
    "tags": [
     "hide-cell"
    ]
   },
   "outputs": [
    {
     "name": "stderr",
     "output_type": "stream",
     "text": [
      " I: Finished executing preamble code\n"
     ]
    }
   ],
   "source": [
    "print(\" I: Finished executing preamble code\", file=sys.stderr)"
   ]
  },
  {
   "cell_type": "markdown",
   "id": "dca84486-d77f-4c57-86e9-f36569258bf2",
   "metadata": {},
   "source": [
    "# Task 1\n",
    "## Task 1a\n",
    "*The source can be found in `scripts/run_provided.py`. Beware that the module is technically not a script, and must therefore be executed by `./run_all.py` or this notebook.*"
   ]
  },
  {
   "cell_type": "code",
   "execution_count": 4,
   "id": "9d057000-d7af-4521-b79d-185a4552370c",
   "metadata": {
    "tags": []
   },
   "outputs": [
    {
     "name": "stderr",
     "output_type": "stream",
     "text": [
      " I: (run_all) Running `run_provided.main()`...\n",
      " I: Found 12 logical cores (2 reserved, 10 free)\n",
      " I: (read took 0.778 seconds; eff. rate: 2.079 GiB/s)\n",
      " I: Smallest great cricle distance is 2137.71 km\n",
      " I: Largest great circle distance is 17687.13 km\n"
     ]
    }
   ],
   "source": [
    "# Run the provided script (task 1), then take\n",
    "# ownership of the returned station data\n",
    "print(\" I: (run_all) Running `run_provided.main()`...\", file=sys.stderr)\n",
    "s_data, s_times, s_lats, s_lons, s_dt, s_dists, figs_1 = run_provided.main(\n",
    "    show_plots=False\n",
    ")\n",
    "\n",
    "# - make sure we get figures in return\n",
    "assert all(f is not None for f in figs_1), \"Not all figures were returned\""
   ]
  },
  {
   "cell_type": "markdown",
   "id": "d0fa267e-2443-4d5c-a84f-8ca5128f582f",
   "metadata": {},
   "source": [
    "## Task 1b\n",
    "*Calculations are performed above.*"
   ]
  },
  {
   "cell_type": "code",
   "execution_count": 5,
   "id": "1ee1d5b2-2da0-464b-ad8f-25dab369e824",
   "metadata": {
    "tags": [
     "hide-input"
    ]
   },
   "outputs": [
    {
     "data": {
      "text/latex": [
       "\\clearpage"
      ],
      "text/plain": [
       "<IPython.core.display.Latex object>"
      ]
     },
     "metadata": {},
     "output_type": "display_data"
    }
   ],
   "source": [
    "clearpage()"
   ]
  },
  {
   "cell_type": "markdown",
   "id": "ab2ff832-10f8-4d8e-b701-d4b71f99005b",
   "metadata": {},
   "source": [
    "## Task 1c"
   ]
  },
  {
   "cell_type": "code",
   "execution_count": 6,
   "id": "98c812e3-07dd-4b2b-b640-22e30c923f35",
   "metadata": {
    "tags": [
     "hide-input"
    ]
   },
   "outputs": [
    {
     "data": {
      "text/markdown": [
       "|![A map over the stations and the event](tmpfigs/tmpfig_1.pdf)|\n",
       "|:--:|\n",
       "|**Figure 1:** A map over the stations and the event|"
      ],
      "text/plain": [
       "<IPython.core.display.Markdown object>"
      ]
     },
     "metadata": {},
     "output_type": "display_data"
    },
    {
     "data": {
      "text/markdown": [
       "|![A scatter plot of the distances between the stations and the event](tmpfigs/tmpfig_2.pdf)|\n",
       "|:--:|\n",
       "|**Figure 2:** A scatter plot of the distances between the stations and the event|"
      ],
      "text/plain": [
       "<IPython.core.display.Markdown object>"
      ]
     },
     "metadata": {},
     "output_type": "display_data"
    }
   ],
   "source": [
    "disp_pltfig(\n",
    "    figs_1[0],\n",
    "    \"A map over the stations and the event\"\n",
    ")\n",
    "disp_pltfig(\n",
    "    figs_1[1], \n",
    "    \"A scatter plot of the distances between the stations and the event\",\n",
    ")"
   ]
  },
  {
   "cell_type": "markdown",
   "id": "cfd2525e-8e38-4188-a26c-f9e06df48466",
   "metadata": {},
   "source": [
    "# Task 2\n",
    "*The source can be found in `scripts/task_2.py`. Beware that the module is technically not a script, and must therefore be executed by `./run_all.py` or this notebook.*"
   ]
  },
  {
   "cell_type": "code",
   "execution_count": 7,
   "id": "48a6f1e3-0b3d-40ea-9657-f69857937253",
   "metadata": {
    "editable": true,
    "slideshow": {
     "slide_type": ""
    },
    "tags": []
   },
   "outputs": [
    {
     "name": "stdout",
     "output_type": "stream",
     "text": [
      " I: (run_all) Running `task_2.main(...)`...\n",
      " I: Executing task 2a...\n",
      " I: Executing task 2b...\n",
      " W: Task 2c is an implementation task\n",
      " I: Executing task 2d (n_points = 1000, fs(.3f) = 100.000 Hz)\n",
      " W: Task 2e is a qualitative task\n",
      " I: Executing task 2f\n",
      " I: (task_2f) Reading from cache...\n",
      " I: (read took 1.070 seconds; eff. rate: 1.512 GiB/s)\n",
      " I: Executing task 2g\n",
      " I: 6 figures were generated\n"
     ]
    }
   ],
   "source": [
    "# Reset PyPlot to default settings\n",
    "mpl.rcParams.update(mpl.rcParamsDefault)\n",
    "\n",
    "# Run main routine for task 2, then take\n",
    "# ownereship of the returned filtered data\n",
    "print(\" I: (run_all) Running `task_2.main(...)`...\")\n",
    "filtered, figs_2 = task_2.main(\n",
    "    1000,\n",
    "    100.0,\n",
    "    s_data,\n",
    "    s_times,\n",
    "    s_dists,\n",
    "    show_section=True,\n",
    "    show_plots=False,\n",
    "    fallback=False,\n",
    ")\n",
    "\n",
    "# - make sure we get filtered data and figures in return,\n",
    "# as we 1) have s_data, and 2) want to show the plots elsewhere\n",
    "assert filtered is not None, \"Filtered data weren't returned\"\n",
    "assert figs_2 is not None, \"No figures were returned\"\n",
    "\n",
    "print(\" I: %d figures were generated\" % (len(figs_1) + len(figs_2)))"
   ]
  },
  {
   "cell_type": "markdown",
   "id": "1ae1427a-e405-43f0-a6c4-d0b344c324db",
   "metadata": {},
   "source": [
    "## Task 2a\n",
    "*Refer to the method `task_2a` in `scripts/task_2.py` for more information.*"
   ]
  },
  {
   "cell_type": "code",
   "execution_count": 8,
   "id": "79aa3230-850f-4cda-a43f-089b7b44b727",
   "metadata": {
    "tags": [
     "hide-input"
    ]
   },
   "outputs": [
    {
     "data": {
      "text/markdown": [
       "|![Impulse responses of the given filters](tmpfigs/tmpfig_3.pdf)|\n",
       "|:--:|\n",
       "|**Figure 3:** Impulse responses of the given filters|"
      ],
      "text/plain": [
       "<IPython.core.display.Markdown object>"
      ]
     },
     "metadata": {},
     "output_type": "display_data"
    }
   ],
   "source": [
    "disp_pltfig(figs_2[0], \"Impulse responses of the given filters\")"
   ]
  },
  {
   "cell_type": "code",
   "execution_count": 9,
   "id": "4c4a9a52-6172-4f96-9a3e-81b9e586a6ea",
   "metadata": {
    "tags": [
     "hide-input"
    ]
   },
   "outputs": [
    {
     "data": {
      "text/latex": [
       "\\clearpage"
      ],
      "text/plain": [
       "<IPython.core.display.Latex object>"
      ]
     },
     "metadata": {},
     "output_type": "display_data"
    }
   ],
   "source": [
    "clearpage()"
   ]
  },
  {
   "cell_type": "markdown",
   "id": "15b9b878-5eb9-4978-b439-a2d91dfd2044",
   "metadata": {},
   "source": [
    "## Task 2b\n",
    "*Refer to the method `task_2b` in `scripts/task_2.py` for more information.*"
   ]
  },
  {
   "cell_type": "code",
   "execution_count": 10,
   "id": "2ac9bbe1-56ef-4a3b-88e6-f4cd71cd85d4",
   "metadata": {
    "tags": [
     "hide-input"
    ]
   },
   "outputs": [
    {
     "data": {
      "text/markdown": [
       "|![Verification of the hand-rolled `convolve` function](tmpfigs/tmpfig_4.pdf)|\n",
       "|:--:|\n",
       "|**Figure 4:** Verification of the hand-rolled `convolve` function|"
      ],
      "text/plain": [
       "<IPython.core.display.Markdown object>"
      ]
     },
     "metadata": {},
     "output_type": "display_data"
    }
   ],
   "source": [
    "disp_pltfig(figs_2[1], \"Verification of the hand-rolled `convolve` function\")"
   ]
  },
  {
   "cell_type": "code",
   "execution_count": 11,
   "id": "8900de68-b142-406f-b4a9-27c6a9c32136",
   "metadata": {
    "editable": true,
    "slideshow": {
     "slide_type": ""
    },
    "tags": [
     "hide-input"
    ]
   },
   "outputs": [
    {
     "data": {
      "text/latex": [
       "\\clearpage"
      ],
      "text/plain": [
       "<IPython.core.display.Latex object>"
      ]
     },
     "metadata": {},
     "output_type": "display_data"
    }
   ],
   "source": [
    "clearpage()"
   ]
  },
  {
   "cell_type": "markdown",
   "id": "80a3bb5d-0cb9-4cdd-9442-80545ffb78a7",
   "metadata": {
    "editable": true,
    "slideshow": {
     "slide_type": ""
    },
    "tags": []
   },
   "source": [
    "## Task 2c\n",
    "*Refer to the method `task_2d` in `scripts/task_2.py` for more information.*"
   ]
  },
  {
   "cell_type": "markdown",
   "id": "eae20f96-d0c8-45ee-9c49-948e04b0da30",
   "metadata": {
    "editable": true,
    "slideshow": {
     "slide_type": ""
    },
    "tags": []
   },
   "source": [
    "## Task 2d\n",
    "*See above for more information.*"
   ]
  },
  {
   "cell_type": "code",
   "execution_count": 12,
   "id": "1bb48b7d-e816-4fe6-bbf4-3f7c32344b9a",
   "metadata": {
    "editable": true,
    "slideshow": {
     "slide_type": ""
    },
    "tags": [
     "hide-input"
    ]
   },
   "outputs": [
    {
     "data": {
      "text/markdown": [
       "|![Frequency response of the FIR filters](tmpfigs/tmpfig_5.pdf)|\n",
       "|:--:|\n",
       "|**Figure 5:** Frequency response of the FIR filters|"
      ],
      "text/plain": [
       "<IPython.core.display.Markdown object>"
      ]
     },
     "metadata": {},
     "output_type": "display_data"
    }
   ],
   "source": [
    "disp_pltfig(figs_2[2], \"Frequency response of the FIR filters\")"
   ]
  },
  {
   "cell_type": "markdown",
   "id": "29ca6957-8bbc-4325-ad0a-5b281c62b4e9",
   "metadata": {
    "editable": true,
    "slideshow": {
     "slide_type": ""
    },
    "tags": []
   },
   "source": [
    "## Task 2e\n",
    "It looks like the filters $h_1$, $h_2$ and $h_3$ are *low-pass*, *band-pass* and *high-pass* filters, respectively."
   ]
  },
  {
   "cell_type": "markdown",
   "id": "ef5eeea6-3562-4fa7-8277-a67134c23530",
   "metadata": {
    "editable": true,
    "slideshow": {
     "slide_type": ""
    },
    "tags": []
   },
   "source": [
    "## Task 2f\n",
    "*Execution performed in the task's preamble. Refer to the method `task_2f` in `scripts/task_2.py` for more information.*"
   ]
  },
  {
   "cell_type": "code",
   "execution_count": 13,
   "id": "a9e186e6-c5cf-44d7-84d5-3c53c174622f",
   "metadata": {
    "editable": true,
    "slideshow": {
     "slide_type": ""
    },
    "tags": [
     "hide-input"
    ]
   },
   "outputs": [
    {
     "data": {
      "text/latex": [
       "\\clearpage"
      ],
      "text/plain": [
       "<IPython.core.display.Latex object>"
      ]
     },
     "metadata": {},
     "output_type": "display_data"
    }
   ],
   "source": [
    "clearpage()"
   ]
  },
  {
   "cell_type": "markdown",
   "id": "78b2c089-c248-49c6-97c0-6bf8c9eb70b4",
   "metadata": {
    "editable": true,
    "slideshow": {
     "slide_type": ""
    },
    "tags": []
   },
   "source": [
    "## Task 2g\n",
    "*Execution performed in the task's preamble. Refer to the method `task_2g` in `scripts/task_2.py` for more information.*\n",
    "\n",
    "As the papers also used a band-pass filter in their section plots, using the band-pass filter is a prudent choice. The other filters yielded section plots that were either too noisy, or too quiet; the band-pass filter captured the signals that we are interested in, and yielded a section plot that was the most similar to the one in the papers."
   ]
  },
  {
   "cell_type": "code",
   "execution_count": 14,
   "id": "081cac68-8b21-470c-938d-b369e0d97985",
   "metadata": {
    "editable": true,
    "slideshow": {
     "slide_type": ""
    },
    "tags": [
     "hide-input"
    ]
   },
   "outputs": [
    {
     "data": {
      "text/markdown": [
       "|![A section plot over station data passed through a band-pass filter](tmpfigs/tmpfig_6.pdf)|\n",
       "|:--:|\n",
       "|**Figure 6:** A section plot over station data passed through a band-pass filter|"
      ],
      "text/plain": [
       "<IPython.core.display.Markdown object>"
      ]
     },
     "metadata": {},
     "output_type": "display_data"
    }
   ],
   "source": [
    "disp_pltfig(figs_2[3], \"A section plot over station data passed through a band-pass filter\")"
   ]
  },
  {
   "cell_type": "markdown",
   "id": "f3d9500d-00f0-4e01-8c65-25f57993bad1",
   "metadata": {
    "editable": true,
    "slideshow": {
     "slide_type": ""
    },
    "tags": []
   },
   "source": [
    "# Task 3"
   ]
  },
  {
   "cell_type": "code",
   "execution_count": 15,
   "id": "251af4ae-19c0-4d8d-b628-ccba4e7e676e",
   "metadata": {
    "editable": true,
    "slideshow": {
     "slide_type": ""
    },
    "tags": []
   },
   "outputs": [],
   "source": [
    "%%capture _\n",
    "# Reset PyPlot to default settings\n",
    "mpl.rcParams.update(mpl.rcParamsDefault)\n",
    "\n",
    "# Unpacked filtered data, then run main routine for task 3\n",
    "print(\" I: (run_all) Running `task_3.main(...)`...\")\n",
    "\n",
    "fd1, fd2, fd3 = filtered\n",
    "fig_3 = task_3.main(\n",
    "    s_dists, s_times, s_data, fd1, fd2, fd3, reuse=True, show_plots=False\n",
    ")\n",
    "\n",
    "assert fig_3 is not None, \"No figure was returned\""
   ]
  },
  {
   "cell_type": "markdown",
   "id": "eba6633f-9c71-4d9d-9096-cfa138dd7d2b",
   "metadata": {
    "editable": true,
    "hidden": true,
    "slideshow": {
     "slide_type": ""
    },
    "tags": [
     "hide-cell"
    ]
   },
   "source": [
    "# Administration - rendering\n",
    "If you are seeing this section, then this notebook has been improperly rendered - and will be littered with code and other cells that are supposed to be hidden from general readers.\n",
    "\n",
    "The code below renders this notebook into a PDF file. As the notebook itself has a compliant name, the PDF file will also be rendered with a compliant name."
   ]
  },
  {
   "cell_type": "code",
   "execution_count": 17,
   "id": "c277a82e-574d-4e05-a116-f8d508d618aa",
   "metadata": {
    "editable": true,
    "hidden": true,
    "slideshow": {
     "slide_type": ""
    },
    "tags": [
     "hide-cell"
    ]
   },
   "outputs": [
    {
     "name": "stderr",
     "output_type": "stream",
     "text": [
      " I: Exporting notebook as PDF... (output file: IN3190_mandatory_2025.pdf)\n",
      " I: Current path: /home/johnc/Projects/IN3190_mandatory_2025\n",
      "[NbConvertApp] Converting notebook IN3190_mandatory_2025.ipynb to pdf\n",
      "[NbConvertApp] Writing 29962 bytes to notebook.tex\n",
      "[NbConvertApp] Building PDF\n",
      "[NbConvertApp] Running xelatex 3 times: ['xelatex', 'notebook.tex', '-quiet']\n",
      "[NbConvertApp] Running bibtex 1 time: ['bibtex', 'notebook']\n",
      "[NbConvertApp] WARNING | bibtex had problems, most likely because there were no citations\n",
      "[NbConvertApp] PDF successfully created\n",
      "[NbConvertApp] Writing 3660965 bytes to IN3190_mandatory_2025.pdf\n"
     ]
    }
   ],
   "source": [
    "# The question is: can a cell hide itself\n",
    "print(f\" I: Exporting notebook as PDF... (output file: {pdfname})\", file=sys.stderr)\n",
    "print(f\" I: Current path: {os.path.realpath('.')}\", file=sys.stderr)\n",
    "_ = os.system(f'\\\n",
    "jupyter nbconvert \\\n",
    "--to pdf \\\n",
    "--TagRemovePreprocessor.remove_cell_tags=\"hide-cell\" \\\n",
    "--TagRemovePreprocessor.remove_input_tags=\"hide-input\" \\\n",
    "{nbname}')\n",
    "\n",
    "# --- Nothing that is hidden, can be shown beyond this point --- #"
   ]
  }
 ],
 "metadata": {
  "authors": [
   {
    "name": "John Isaac Calderon"
   }
  ],
  "kernelspec": {
   "display_name": "Python 3 (ipykernel)",
   "language": "python",
   "name": "python3"
  },
  "language_info": {
   "codemirror_mode": {
    "name": "ipython",
    "version": 3
   },
   "file_extension": ".py",
   "mimetype": "text/x-python",
   "name": "python",
   "nbconvert_exporter": "python",
   "pygments_lexer": "ipython3",
   "version": "3.12.3"
  },
  "title": "FYS3220 -- LAB B: Common electronic circuits"
 },
 "nbformat": 4,
 "nbformat_minor": 5
}
