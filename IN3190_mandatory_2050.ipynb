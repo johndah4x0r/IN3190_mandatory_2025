{
 "cells": [
  {
   "cell_type": "markdown",
   "id": "e3195500-fd21-41a3-8215-c53d99c36804",
   "metadata": {
    "editable": true,
    "slideshow": {
     "slide_type": ""
    },
    "tags": [
     "hide-cell"
    ]
   },
   "source": [
    "---\n",
    "title: \"FYS3220 -- LAB B: Common electrical circuits\"\n",
    "author: \"John Isaac Calderon\"\n",
    "exports:\n",
    "  - format: pdf\n",
    "    template: plain_latex\n",
    "    article_type: Report\n",
    "numbering:\n",
    "    heading_1: true\n",
    "    heading_2: true\n",
    "    heading_3: true\n",
    "---"
   ]
  },
  {
   "cell_type": "markdown",
   "id": "d0247f22-4d81-46b7-a55c-25a15ad722a5",
   "metadata": {
    "editable": true,
    "slideshow": {
     "slide_type": ""
    },
    "tags": [
     "hide-cell"
    ]
   },
   "source": [
    "# Administration - preamble\n",
    "If you are seeing this section, then this notebook has been improperly rendered - and will be littered with code and other cells that are supposed to be hidden from general readers."
   ]
  },
  {
   "cell_type": "code",
   "execution_count": 1,
   "id": "c8c1b6e3-b407-49b5-9db4-57aedd1d296e",
   "metadata": {
    "editable": true,
    "slideshow": {
     "slide_type": ""
    },
    "tags": [
     "hide-cell"
    ]
   },
   "outputs": [
    {
     "name": "stderr",
     "output_type": "stream",
     "text": [
      " I: Executing preamble code...\n"
     ]
    }
   ],
   "source": [
    "import os\n",
    "import sys\n",
    "import shutil\n",
    "\n",
    "print(\" I: Executing preamble code...\", file=sys.stderr)"
   ]
  },
  {
   "cell_type": "code",
   "execution_count": 2,
   "id": "f1e21a91-95a6-44f3-a48d-f81b9908018e",
   "metadata": {
    "editable": true,
    "slideshow": {
     "slide_type": ""
    },
    "tags": [
     "hide-cell"
    ]
   },
   "outputs": [
    {
     "name": "stderr",
     "output_type": "stream",
     "text": [
      "  > Current directory: /home/johnc/Documents/Notebooks/FYS3220_LAB_B_V25_jicalder\n",
      "  > Target notebook: FYS3220_LAB_B_V25_jicalder.ipynb\n",
      "  > Output file: FYS3220_LAB_B_V25_jicalder.pdf\n",
      "  > Figures directory: /home/johnc/Documents/Notebooks/FYS3220_LAB_B_V25_jicalder/tmpfigs\n"
     ]
    }
   ],
   "source": [
    "# --- Preamble code START --- #\n",
    "\n",
    "from IPython.display import display, Markdown, Latex\n",
    "import matplotlib.pyplot as plt\n",
    "import numpy as np\n",
    "import math\n",
    "\n",
    "# - Definitions - #\n",
    "\n",
    "# Set the notebook name\n",
    "docname = \"FYS3220_LAB_B_V25_jicalder\"\n",
    "nbname = f\"{docname}.ipynb\"\n",
    "pdfname = f\"{docname}.pdf\"\n",
    "\n",
    "cwd = os.path.realpath(\".\")\n",
    "assert len(cwd) > 0 and cwd != \"/\"\n",
    "\n",
    "# Initialize temporary figures directory\n",
    "figsdir = \"tmpfigs\"\n",
    "figsdir_full = f\"{cwd}/{figsdir}\"\n",
    "\n",
    "if os.path.exists(figsdir):\n",
    "    shutil.rmtree(figsdir)\n",
    "\n",
    "os.mkdir(figsdir)\n",
    "\n",
    "print(f\"  > Current directory: {cwd}\", file=sys.stderr)\n",
    "print(f\"  > Target notebook: {nbname}\", file=sys.stderr)\n",
    "print(f\"  > Output file: {pdfname}\", file=sys.stderr)\n",
    "print(f\"  > Figures directory: {figsdir_full}\", file=sys.stderr)\n",
    "\n",
    "# Define a counter variable for the figures\n",
    "FIG_CTR = 1\n",
    "\n",
    "\n",
    "# - Functions - #\n",
    "\n",
    "# Clear the page\n",
    "def clearpage() -> None:\n",
    "    display(Latex(r\"\\clearpage\"))\n",
    "    \n",
    "# Display a generic image figure\n",
    "def disp_imgfig(img: str, desc: str, preamble: str = \"\") -> None:\n",
    "    global FIG_CTR\n",
    "\n",
    "    # Make sure the file even exists\n",
    "    if not os.path.exists(img):\n",
    "        raise ValueError(f\"Provided image file '{img}' does not exist.\")\n",
    "\n",
    "    # Create caption\n",
    "    caption = f\"**Figure {FIG_CTR}:** {desc}\"\n",
    "\n",
    "    # Create Markdown sequence\n",
    "    md = f\"|![{desc}]({img})|\\n|:--:|\\n|{caption}|\"\n",
    "\n",
    "    if preamble:\n",
    "        md = preamble + \"\\n\\n\" + md\n",
    "\n",
    "    # Display the sequence\n",
    "    display(Markdown(md))\n",
    "\n",
    "    # Increment the figure counter\n",
    "    FIG_CTR += 1\n",
    "\n",
    "\n",
    "# Display two generic image figures\n",
    "def disp_imgfig2(img1: str, img2: str, desc1: str, desc2: str, preamble: str = \"\") -> None:\n",
    "    global FIG_CTR\n",
    "\n",
    "    # Make sure the files even exist\n",
    "    if not os.path.exists(img1):\n",
    "        raise ValueError(f\"Provided image file '{img1}' does not exist.\")\n",
    "\n",
    "    if not os.path.exists(img2):\n",
    "        raise ValueError(f\"Provided image file '{img2}' does not exist.\")\n",
    "\n",
    "    # Create caption\n",
    "    caption1 = f\"**Figure {FIG_CTR}:** {desc1}\"\n",
    "    caption2 = f\"**Figure {FIG_CTR+1}:** {desc2}\"\n",
    "\n",
    "    caption = caption1 + \"\\\\\\n\" + caption2\n",
    "    \n",
    "    # Create Markdown sequence\n",
    "    md = f\"|![{desc1}]({img1})|![{desc2}]({img2})|\\n|:--:|:--:|\\n|{caption1}|{caption2}|\"\n",
    "\n",
    "    if preamble:\n",
    "        md = preamble + \"\\n\\n\" + md\n",
    "\n",
    "    # Display the sequence\n",
    "    display(Markdown(md))\n",
    "\n",
    "    # Increment the figure counter\n",
    "    FIG_CTR += 2\n",
    "\n",
    "\n",
    "# Display a Pyplot figure\n",
    "def disp_pltfig(fig: plt.Figure, desc: str, preamble: str = \"\") -> None:    \n",
    "    global FIG_CTR\n",
    "    \n",
    "    # Save the figure as an image file, using the current\n",
    "    # figure counter to discriminate between figures\n",
    "    figfile = f\"{figsdir}/tmpfig_{FIG_CTR}.png\"\n",
    "\n",
    "    # Save the figure and close it, so that\n",
    "    # the notebook isn't littered with\n",
    "    # orphaned figures\n",
    "    fig.savefig(figfile, bbox_inches=\"tight\", dpi=400)\n",
    "    plt.close(fig)\n",
    "\n",
    "    disp_imgfig(figfile, desc, preamble)\n",
    "\n",
    "\n",
    "# Display two Pyplot figures\n",
    "def disp_pltfig2(fig1: plt.Figure, fig2: plt.Figure, desc1: str, desc2: str, preamble: str = \"\") -> None:    \n",
    "    global FIG_CTR\n",
    "    \n",
    "    # Save the figure as an image file, using the current\n",
    "    # figure counter to discriminate between figures\n",
    "    figfile_1 = f\"{figsdir}/tmpfig_{FIG_CTR}.png\"\n",
    "    figfile_2 = f\"{figsdir}/tmpfig_{FIG_CTR+1}.png\"\n",
    "\n",
    "    # Save the figure and close it, so that\n",
    "    # the notebook isn't littered with\n",
    "    # orphaned figures\n",
    "    fig1.savefig(figfile_1, bbox_inches=\"tight\", dpi=400)\n",
    "    fig2.savefig(figfile_2, bbox_inches=\"tight\", dpi=400)\n",
    "    plt.close(fig1)\n",
    "    plt.close(fig2)\n",
    "\n",
    "    disp_imgfig2(figfile_1, figfile_2, desc1, desc2, preamble)\n",
    "\n",
    "# Find the `x` coordinates that satisfy `y1[...] == y2`\n",
    "def where_is(\n",
    "    x: np.ndarray, \n",
    "    y1: np.ndarray, \n",
    "    y2: float, \n",
    "    err: float = 1.0e-3\n",
    ") -> list[float]:\n",
    "    assert len(x) == len(y1)\n",
    "\n",
    "    a = []\n",
    "\n",
    "    for u, v in zip(x, y1):\n",
    "        if math.isclose(v, y2, rel_tol=err):\n",
    "            a.append(u)\n",
    "\n",
    "    return np.array(a)\n",
    "# --- Preamble code END --- #"
   ]
  },
  {
   "cell_type": "code",
   "execution_count": 3,
   "id": "f89dd5b9-7ff5-4408-bb81-42851d06d8a1",
   "metadata": {
    "editable": true,
    "slideshow": {
     "slide_type": ""
    },
    "tags": [
     "hide-cell"
    ]
   },
   "outputs": [
    {
     "name": "stderr",
     "output_type": "stream",
     "text": [
      " I: Finished executing preamble code\n"
     ]
    }
   ],
   "source": [
    "print(\" I: Finished executing preamble code\", file=sys.stderr)"
   ]
  },
  {
   "cell_type": "markdown",
   "id": "d60599df-6f6e-4ef3-80c7-e1ff3642c672",
   "metadata": {
    "editable": true,
    "slideshow": {
     "slide_type": ""
    },
    "tags": []
   },
   "source": [
    "There really isn't much to do, other than to pull through the tasks at hand..."
   ]
  },
  {
   "cell_type": "code",
   "execution_count": 4,
   "id": "f4dc23ec-73ec-47ff-a953-c80d67802e09",
   "metadata": {
    "editable": true,
    "slideshow": {
     "slide_type": ""
    },
    "tags": [
     "hide-input",
     "hide-cell"
    ]
   },
   "outputs": [],
   "source": [
    "# Mostly following the guide made by UC Berkeley\n",
    "# (origin: https://pythonnumericalmethods.studentorg.berkeley.edu/notebooks/chapter24.04-FFT-in-Python.html)\n",
    "from numpy.fft import fft, ifft\n",
    "from scipy.signal import find_peaks\n",
    "from typing import Optional\n",
    "\n",
    "# Define the normalized FFT function\n",
    "# ...which is really just a shorthand for\n",
    "# \"do everything we would otherwise have\n",
    "# to write down every time\"\n",
    "# - I find the function signature incredibly funny\n",
    "# for some reason...\n",
    "# - The times in `t` should be equidistant\n",
    "# - the coefficient it returns are complex, because...\n",
    "def norm_fft(\n",
    "    t: np.ndarray, \n",
    "    x: np.ndarray,\n",
    "    thr: Optional[float] = None,\n",
    ") -> (np.ndarray, np.ndarray, np.ndarray):\n",
    "    # Calculate the sampling rate\n",
    "    dt = t[1] - t[0]\n",
    "    f_s = 1 / dt\n",
    "\n",
    "    # Perform FFT on the input\n",
    "    X = fft(x)            # FFt of `x`\n",
    "    N = len(X)            # Number of discrete frequencies\n",
    "    \n",
    "    assert N != 0\n",
    "    \n",
    "    n = np.arange(N)      # Bin number\n",
    "    bins = n / N * f_s    # Frequency bins\n",
    "    X *= 2/N              # Normalize `X` to obtain coefficients\n",
    "                          # - accounting for symmetry\n",
    "    \n",
    "    # - exploit the symmetry of FFT\n",
    "    bins = bins[:N//2]\n",
    "    X = X[:N//2]\n",
    "\n",
    "    # Find peaks\n",
    "    X_mag = np.abs(X)     # Magnitude of `X`\n",
    "    peaks, _ = find_peaks(X_mag, threshold=thr)    # Bins with peaks\n",
    "\n",
    "    return bins, X, peaks"
   ]
  },
  {
   "cell_type": "code",
   "execution_count": 5,
   "id": "75c3f54e-f430-4db3-ad0c-19d1436984c1",
   "metadata": {
    "editable": true,
    "slideshow": {
     "slide_type": ""
    },
    "tags": [
     "hide-cell",
     "hide-input"
    ]
   },
   "outputs": [],
   "source": [
    "# Return an array of sinusoids with common time and different parameters\n",
    "def sinusoid(t: np.ndarray, f: np.ndarray, b: np.ndarray) -> np.ndarray:\n",
    "    # Copy the arrays, which are otherwise mutable\n",
    "    f_v, t_v, b_v = np.copy(f), np.copy(t), np.copy(b)\n",
    "\n",
    "    # Turn the arrays into vectors with appropriate shapes\n",
    "    f_v.shape = (len(f),1)\n",
    "    t_v.shape = (1,len(t))\n",
    "    b_v.shape = (1,len(b))\n",
    "\n",
    "    # Calculate the argument angles, then calculate the result\n",
    "    phi = 2 * np.pi * (f_v * t_v)\n",
    "    res = np.sum(b_v.T * np.sin(phi), axis=0)\n",
    "    return res"
   ]
  },
  {
   "cell_type": "markdown",
   "id": "13f232c6-cb8a-4045-a288-51e1377a1f5a",
   "metadata": {
    "editable": true,
    "slideshow": {
     "slide_type": ""
    },
    "tags": []
   },
   "source": [
    "# RL circuit and time constant\n",
    "## Schematic"
   ]
  },
  {
   "cell_type": "code",
   "execution_count": 6,
   "id": "130b0d1d-fc3d-4835-afd4-4ffd84f2b4c2",
   "metadata": {
    "editable": true,
    "slideshow": {
     "slide_type": ""
    },
    "tags": [
     "hide-input"
    ]
   },
   "outputs": [
    {
     "data": {
      "text/markdown": [
       "|![A simple RL circuit with a manual switch](1_RL_circuit.png)|\n",
       "|:--:|\n",
       "|**Figure 1:** A simple RL circuit with a manual switch|"
      ],
      "text/plain": [
       "<IPython.core.display.Markdown object>"
      ]
     },
     "metadata": {},
     "output_type": "display_data"
    }
   ],
   "source": [
    "disp_imgfig(\"1_RL_circuit.png\", \"A simple RL circuit with a manual switch\")"
   ]
  },
  {
   "cell_type": "markdown",
   "id": "8c278064-b430-4dd8-8eea-bbd6d1f37e19",
   "metadata": {
    "editable": true,
    "slideshow": {
     "slide_type": ""
    },
    "tags": []
   },
   "source": [
    "## Symbolic analysis\n",
    "From Kirchhoff's voltage law, we have the sum of the voltages throughout the circuit:\n",
    "$$\\sum{U} = -V + V_R + V_L = 0$$\n",
    "\n",
    "We then have $V_R = iR$ from Ohm's law and\n",
    "$$V_L = L\\frac{\\mathrm{d}i}{\\mathrm{d}t}$$\n",
    "from Faraday's law. Henceforth\n",
    "$$-V + iR + L\\frac{\\mathrm{d}i}{\\mathrm{d}t} = 0$$\n",
    "which is a first-order non-homogeneous ordinary differential equation. We can rewrite the equation as\n",
    "$$\\frac{\\mathrm{d}i}{\\mathrm{d}t} + \\frac{R}{L}\\left(i - \\frac{V}{R}\\right) = 0$$\n",
    "which also makes the system's principle of function easier to read at a glance. Using the substitution $I = i - V/R$ and the fact that $\\dot{V} = 0$, we get the\n",
    "homogeneous ODE\n",
    "$$\\frac{\\mathrm{d}I}{\\mathrm{d}t} + \\frac{R}{L}I = 0$$\n",
    "which has solutions of the form\n",
    "$$I(t) = I(0) \\cdot e^{-(R/L)t}$$\n",
    "with $I(0) = i(0) - V/R$ being the initial value for $I$. Reversing the substitution yields\n",
    "$$i(t) - \\frac{V}{R} = \\left[i(0) - \\frac{V}{R}\\right]e^{-(R/L)t}$$\n",
    "and with $i(0) = 0$, we get\n",
    "$$i(t) = \\left[1-e^{-(R/L)t}\\right]\\frac{V}{R}$$\n",
    "Finally, the time constant of the system is $\\tau = L/R$, so that $t/\\tau = (R/L)t$. The time constant is essentially the time it takes for the system to reach (or lose) $1-1/e \\approx 63.2\\%$ of its value.\n",
    "ts $T = 5\\tau$ would yield $1-1/e^5 \\approx 99.3\\%$.\n"
   ]
  },
  {
   "cell_type": "code",
   "execution_count": 7,
   "id": "86857d91-32ef-4d1f-b929-cc75d20988e5",
   "metadata": {
    "editable": true,
    "slideshow": {
     "slide_type": ""
    },
    "tags": [
     "hide-input"
    ]
   },
   "outputs": [
    {
     "data": {
      "text/latex": [
       "\\clearpage"
      ],
      "text/plain": [
       "<IPython.core.display.Latex object>"
      ]
     },
     "metadata": {},
     "output_type": "display_data"
    }
   ],
   "source": [
    "clearpage()"
   ]
  },
  {
   "cell_type": "markdown",
   "id": "ca7ae1e8-5bf3-4519-9e9d-901fd6a9d31d",
   "metadata": {
    "editable": true,
    "slideshow": {
     "slide_type": ""
    },
    "tags": []
   },
   "source": [
    "\n",
    "### Theoretical calculations\n",
    "Using the result $\\tau = L/R$ and $L = 100\\,\\mathrm{mH}$, the resistance that yields $\\tau = 1\\,\\mathrm{ms}$ is\n",
    "$$R = \\frac{100\\,\\mathrm{mH}}{1\\,\\mathrm{ms}} \\approx 100\\,\\Omega$$\n",
    "\n",
    "The number of time constants it would require for the system to reach 99% of its maximum value can be calculated as follows:\n",
    "$$T_{99\\%}/\\tau \\geq \\ln\\left(\\frac{1}{1-0.99}\\right) \\approx 4.605$$\n",
    "A time of five time constants should put the system at 99.3% of its maximum value."
   ]
  },
  {
   "cell_type": "markdown",
   "id": "8a055ae1-8ac6-4fa0-b110-5b1e2f2e49db",
   "metadata": {
    "editable": true,
    "slideshow": {
     "slide_type": ""
    },
    "tags": []
   },
   "source": [
    "## Results"
   ]
  },
  {
   "cell_type": "code",
   "execution_count": 8,
   "id": "99e32e33-bea8-4727-91a0-5e087c820e58",
   "metadata": {
    "editable": true,
    "slideshow": {
     "slide_type": ""
    },
    "tags": [
     "hide-input"
    ]
   },
   "outputs": [
    {
     "data": {
      "text/markdown": [
       "|![Transient analysis of the RL circuit](result_task_1-1.png)|\n",
       "|:--:|\n",
       "|**Figure 2:** Transient analysis of the RL circuit|"
      ],
      "text/plain": [
       "<IPython.core.display.Markdown object>"
      ]
     },
     "metadata": {},
     "output_type": "display_data"
    }
   ],
   "source": [
    "disp_imgfig(\"result_task_1-1.png\", \"Transient analysis of the RL circuit\")"
   ]
  },
  {
   "cell_type": "markdown",
   "id": "6be1e51b-7b3e-4d1f-ba62-71d30096fae8",
   "metadata": {
    "editable": true,
    "slideshow": {
     "slide_type": ""
    },
    "tags": []
   },
   "source": [
    "As can be seen in figure 2, from the time the switch closes, to the time the current reaches 99% of its maximum value, $T = 5.0\\,\\mathrm{ms}$ has elapsed -- and with a time constant of $\\tau = 1\\,\\mathrm{ms}$, this just confirms that the time it takes for the current to reach 99% of its maximum value is 5 time constants."
   ]
  },
  {
   "cell_type": "code",
   "execution_count": 9,
   "id": "63a141fa-927a-412b-b15c-6baba089f3a1",
   "metadata": {
    "editable": true,
    "slideshow": {
     "slide_type": ""
    },
    "tags": [
     "hide-input"
    ]
   },
   "outputs": [
    {
     "data": {
      "text/latex": [
       "\\clearpage"
      ],
      "text/plain": [
       "<IPython.core.display.Latex object>"
      ]
     },
     "metadata": {},
     "output_type": "display_data"
    }
   ],
   "source": [
    "display(Latex(r\"\\clearpage\"))"
   ]
  },
  {
   "cell_type": "markdown",
   "id": "bcf55686-ce86-47e5-8173-655471077a49",
   "metadata": {
    "editable": true,
    "slideshow": {
     "slide_type": ""
    },
    "tags": []
   },
   "source": [
    "# RLC circuit: transient analysis\n",
    "## Schematic"
   ]
  },
  {
   "cell_type": "code",
   "execution_count": 10,
   "id": "cc8edf2c-97c8-4fb4-96ce-af71b630fc13",
   "metadata": {
    "editable": true,
    "slideshow": {
     "slide_type": ""
    },
    "tags": [
     "hide-input"
    ]
   },
   "outputs": [
    {
     "data": {
      "text/markdown": [
       "|![A collection of series RLC branches in a single circuit](lab-b-task-1_2-schematic.png)|\n",
       "|:--:|\n",
       "|**Figure 3:** A collection of series RLC branches in a single circuit|"
      ],
      "text/plain": [
       "<IPython.core.display.Markdown object>"
      ]
     },
     "metadata": {},
     "output_type": "display_data"
    }
   ],
   "source": [
    "disp_imgfig(\"lab-b-task-1_2-schematic.png\", \"A collection of series RLC branches in a single circuit\")"
   ]
  },
  {
   "cell_type": "markdown",
   "id": "e2bb1cd5-3e6c-4eb2-82d0-3d0fb6b462d3",
   "metadata": {
    "editable": true,
    "slideshow": {
     "slide_type": ""
    },
    "tags": []
   },
   "source": [
    "## Symbolic analysis\n",
    "We are already given the transadmittance\n",
    "$$\n",
    "Y(s) = \\frac{\\frac{1}{L}s}{s^2 + \\frac{R}{L}s + \\frac{1}{LC}}\n",
    "$$\n",
    "and the the equation for the poles\n",
    "$$\n",
    "    s^2 + \\frac{R}{L}s + \\frac{1}{LC} = 0\n",
    "$$\n",
    "with the solutions\n",
    "$$\n",
    "p_1,p_2 = -\\alpha \\pm \\beta = -\\frac{R}{2L} \\pm \\sqrt{\\left(-\\frac{R}{2L}\\right)^2 - \\frac{1}{LC}}\n",
    "$$\n",
    "This ultimately leads to\n",
    "\\begin{align*}\n",
    "    \\alpha = \\frac{R}{2L} && \\beta = \\sqrt{\\left(\\frac{R}{2L}\\right)^2 - \\frac{1}{LC}}\n",
    "\\end{align*}\n",
    "We can see that the numerator in $Y(s)$ has the trivial zero $s = 0$, which makes sense, since a DC signal would be blocked by the series capacitance. This ultimately means that we only need to focus on the poles.\n",
    "\n",
    "### Numerical calculations\n",
    "The only thing we need to do, is to calculate $\\alpha$ and $\\beta$, then plug them in into the table below:"
   ]
  },
  {
   "cell_type": "code",
   "execution_count": 11,
   "id": "9d7d601a-f45a-4175-abb7-2f44ad5eceb7",
   "metadata": {
    "editable": true,
    "slideshow": {
     "slide_type": ""
    },
    "tags": [
     "hide-input"
    ]
   },
   "outputs": [
    {
     "data": {
      "text/markdown": [
       "\n",
       "|    |Poles  |$\\alpha$ [kHz] |$\\beta$ [kHz] |$p_1$ [kHz] |$p_2$ [kHz] |\n",
       "|:--:|:-----:|:-------------:|:------------:|:----------:|:----------:|\n",
       "|$R_1$ branch|$2$|$100.0$|$99.5$|$-0.5$|$-199.5$|\n",
       "|$R_2$ branch|$1$|$10.0$|$0.0$|$-10.0$|$-10.0$|\n",
       "|$R_3$ branch|$2$|$1.0$|$0.0+9.9j$|$-1.0+9.9j$|$-1.0-9.9j$|\n"
      ],
      "text/plain": [
       "<IPython.core.display.Markdown object>"
      ]
     },
     "metadata": {},
     "output_type": "display_data"
    }
   ],
   "source": [
    "_md = rf\"\"\"\n",
    "|    |Poles  |$\\alpha$ [kHz] |$\\beta$ [kHz] |$p_1$ [kHz] |$p_2$ [kHz] |\n",
    "|:--:|:-----:|:-------------:|:------------:|:----------:|:----------:|\n",
    "\"\"\"\n",
    "\n",
    "R = [2000.0, 200.0, 20.0]  # branch resistance\n",
    "L = 10.0e-3  # branch inductance\n",
    "C = 1.0e-6  # branch capacitance\n",
    "\n",
    "for n in range(1,4):\n",
    "    alpha = R[n-1] / (2 * L) / 1000\n",
    "    beta = pow(pow(alpha*1000, 2) - 1/(L * C), 1/2) / 1000\n",
    "    N = 1 if beta == 0.0 else 2\n",
    "    _md += f\"|$R_{n}$ branch|${N}$|${alpha:.1f}$|${beta:.1f}$|${-alpha+beta:.1f}$|${-alpha-beta:.1f}$|\\n\"\n",
    "display(Markdown(_md))"
   ]
  },
  {
   "cell_type": "markdown",
   "id": "bb5c2cdc-02af-46a6-850c-3433ee716bd9",
   "metadata": {
    "editable": true,
    "slideshow": {
     "slide_type": ""
    },
    "tags": []
   },
   "source": [
    "While the values above are numerically correct, they can be highly misleading, since it isn't immediately obvious that the values represent *angular frequencies*, and not *temporal frequencies* -- the latter of which are, so to speak, \"human-readable\"."
   ]
  },
  {
   "cell_type": "code",
   "execution_count": 12,
   "id": "94dd7ca5-320b-4a2d-96f9-7bc207aaa663",
   "metadata": {
    "editable": true,
    "slideshow": {
     "slide_type": ""
    },
    "tags": [
     "hide-input"
    ]
   },
   "outputs": [
    {
     "data": {
      "text/markdown": [
       "\n",
       "|    |$\\alpha/(2\\pi)$ [kHz] |$\\beta/(2\\pi)$ [kHz] |$p_1/(2\\pi)$ [Hz] |$p_2/(2\\pi)$ [Hz] |\n",
       "|:--:|:--------------------:|:-------------------:|:----------------:|:----------------:|\n",
       "|$R_1$ branch|$15.92$|$15.84$|$-80$|$-31751$|\n",
       "|$R_2$ branch|$1.59$|$0.00$|$-1592$|$-1592$|\n",
       "|$R_3$ branch|$0.16$|$0.00+1.58j$|$-159+1584j$|$-159-1584j$|\n"
      ],
      "text/plain": [
       "<IPython.core.display.Markdown object>"
      ]
     },
     "metadata": {},
     "output_type": "display_data"
    }
   ],
   "source": [
    "_md = rf\"\"\"\n",
    "|    |$\\alpha/(2\\pi)$ [kHz] |$\\beta/(2\\pi)$ [kHz] |$p_1/(2\\pi)$ [Hz] |$p_2/(2\\pi)$ [Hz] |\n",
    "|:--:|:--------------------:|:-------------------:|:----------------:|:----------------:|\n",
    "\"\"\"\n",
    "\n",
    "import math\n",
    "\n",
    "R = [2000.0, 200.0, 20.0]  # branch resistance\n",
    "L = 10.0e-3  # branch inductance\n",
    "C = 1.0e-6  # branch capacitance\n",
    "\n",
    "for n in range(1,4):\n",
    "    alpha = R[n-1] / (2 * L)\n",
    "    beta = pow(pow(alpha, 2) - 1/(L * C), 1/2)\n",
    "\n",
    "    alpha_h = alpha / (2 * math.pi)\n",
    "    beta_h = beta / (2 * math.pi)\n",
    "    \n",
    "    N = 1 if beta == 0.0 else 2\n",
    "    _md += f\"|$R_{n}$ branch|${alpha_h/1000:.2f}$|${beta_h/1000:.2f}$|${-alpha_h+beta_h:.0f}$|${-alpha_h-beta_h:.0f}$|\\n\"\n",
    "display(Markdown(_md))"
   ]
  },
  {
   "cell_type": "markdown",
   "id": "2d9921b6-3f2e-4165-a9fb-efd84adddb9e",
   "metadata": {
    "editable": true,
    "slideshow": {
     "slide_type": ""
    },
    "tags": []
   },
   "source": [
    "## Results\n",
    "### Transient analysis"
   ]
  },
  {
   "cell_type": "code",
   "execution_count": 13,
   "id": "fd3c5c4d-d144-4eca-a61f-b010a7b671b5",
   "metadata": {
    "editable": true,
    "slideshow": {
     "slide_type": ""
    },
    "tags": [
     "hide-input"
    ]
   },
   "outputs": [
    {
     "data": {
      "text/markdown": [
       "|![Transient analysis of the currents through the RLC branches.             The currents are appropriately scaled for sufficient separation.](result_task_1-2-a.png)|\n",
       "|:--:|\n",
       "|**Figure 4:** Transient analysis of the currents through the RLC branches.             The currents are appropriately scaled for sufficient separation.|"
      ],
      "text/plain": [
       "<IPython.core.display.Markdown object>"
      ]
     },
     "metadata": {},
     "output_type": "display_data"
    }
   ],
   "source": [
    "disp_imgfig(\"result_task_1-2-a.png\", \n",
    "            \"Transient analysis of the currents through the RLC branches. \\\n",
    "            The currents are appropriately scaled for sufficient separation.\")"
   ]
  },
  {
   "cell_type": "code",
   "execution_count": 14,
   "id": "1b84bda0-3ff4-446b-a308-05c32b315b38",
   "metadata": {
    "editable": true,
    "slideshow": {
     "slide_type": ""
    },
    "tags": [
     "hide-input"
    ]
   },
   "outputs": [
    {
     "data": {
      "text/latex": [
       "\\clearpage"
      ],
      "text/plain": [
       "<IPython.core.display.Latex object>"
      ]
     },
     "metadata": {},
     "output_type": "display_data"
    }
   ],
   "source": [
    "clearpage()"
   ]
  },
  {
   "cell_type": "markdown",
   "id": "9baab4e7-0d6e-47ea-8e6f-1934c2a149ab",
   "metadata": {
    "editable": true,
    "slideshow": {
     "slide_type": ""
    },
    "tags": []
   },
   "source": [
    "### AC analysis"
   ]
  },
  {
   "cell_type": "code",
   "execution_count": 15,
   "id": "96c70a9f-bef8-49f9-bd70-97ab369b429d",
   "metadata": {
    "editable": true,
    "slideshow": {
     "slide_type": ""
    },
    "tags": [
     "hide-input"
    ]
   },
   "outputs": [
    {
     "data": {
      "text/markdown": [
       "|![A Bode plot of the currents with respect to *temporal frequency*](result_task_1-2-b.png)|\n",
       "|:--:|\n",
       "|**Figure 5:** A Bode plot of the currents with respect to *temporal frequency*|"
      ],
      "text/plain": [
       "<IPython.core.display.Markdown object>"
      ]
     },
     "metadata": {},
     "output_type": "display_data"
    }
   ],
   "source": [
    "disp_imgfig(\"result_task_1-2-b.png\", \"A Bode plot of the currents with respect to *temporal frequency*\")"
   ]
  },
  {
   "cell_type": "markdown",
   "id": "6bc139da-32e9-42a6-99c2-75dd74cced0a",
   "metadata": {
    "editable": true,
    "slideshow": {
     "slide_type": ""
    },
    "tags": []
   },
   "source": [
    "## Discussion\n",
    "### Transient analysis\n",
    "There really isn't much to discuss, other than the fact that\n",
    " - the $R_1$ branch (figure 4; orange trace) exhibits overdamped oscillation\n",
    " - the $R_2$ branch (figure 4; yellow trace) exhibits critically damped oscillation\n",
    " - the $R_3$ branch\n",
    "\n",
    "### AC analysis\n",
    "We can observe that, for real $\\beta \\neq 0$, we get two real poles -- which we can also observe by looking where the magnitude is exactly -3 decibels below the maximum magnitude. This is the case for the $R_1$ branch (see figure 5; blue trace), which exhibits an overdamped oscillation (see figure 4; orange trace).\n",
    "\n",
    "We then have the case with $\\beta = 0$, meaning that the transadmittance immediately transitions from *increasing* to *decreasing* past the system's sole pole. This is the case for the $R_2$ branch (see figure 5; orange trace), which exhibits a critically damped oscillation (see figure 4; yellow trace).\n",
    "\n",
    "Finally, we have the case with imaginary $\\beta$, where we get two complex poles -- but only one peak in the frequency domain. It can be observed that the frequencies where the magnitude is -3 decibels below the maximum magnitude, is\n",
    "$$\\omega_{-3\\,\\mathrm{dB}} = \\alpha \\mp j\\beta$$\n",
    "where $\\omega_{-3\\,\\mathrm{dB}}$ are real frequencies. This is very much the case for the $R_3$ branch (see figure 5; yellow trace), which exhibits an underdamped oscillation (see figure 4; blue trace).\n",
    "\n",
    "Our observations establish the connection between the Bode plots and the table in this section."
   ]
  },
  {
   "cell_type": "markdown",
   "id": "fbc60569-1ed7-4874-9df0-c7b3e14fee34",
   "metadata": {
    "editable": true,
    "slideshow": {
     "slide_type": ""
    },
    "tags": []
   },
   "source": [
    "# Ideal and non-ideal operational amplifiers\n",
    "## Schematics\n",
    "\n",
    "### Individual amplifiers"
   ]
  },
  {
   "cell_type": "code",
   "execution_count": 16,
   "id": "06c58703-0c41-4276-81a2-c2608e2aa90b",
   "metadata": {
    "editable": true,
    "slideshow": {
     "slide_type": ""
    },
    "tags": [
     "hide-input"
    ]
   },
   "outputs": [
    {
     "data": {
      "text/markdown": [
       "|![Four inverting amplifiers with different gains](lab-b-task-2_1-schematic.png)|\n",
       "|:--:|\n",
       "|**Figure 6:** Four inverting amplifiers with different gains|"
      ],
      "text/plain": [
       "<IPython.core.display.Markdown object>"
      ]
     },
     "metadata": {},
     "output_type": "display_data"
    }
   ],
   "source": [
    "disp_imgfig(\"lab-b-task-2_1-schematic.png\", \"Four inverting amplifiers with different gains\")"
   ]
  },
  {
   "cell_type": "code",
   "execution_count": 17,
   "id": "57174556-7977-4a79-8aac-3f6eaaffed91",
   "metadata": {
    "editable": true,
    "slideshow": {
     "slide_type": ""
    },
    "tags": [
     "hide-input"
    ]
   },
   "outputs": [
    {
     "data": {
      "text/latex": [
       "\\clearpage"
      ],
      "text/plain": [
       "<IPython.core.display.Latex object>"
      ]
     },
     "metadata": {},
     "output_type": "display_data"
    }
   ],
   "source": [
    "clearpage()"
   ]
  },
  {
   "cell_type": "markdown",
   "id": "39ba4761-8401-49c8-8d89-e41ce0f26fdc",
   "metadata": {
    "editable": true,
    "slideshow": {
     "slide_type": ""
    },
    "tags": []
   },
   "source": [
    "## Chained amplifiers"
   ]
  },
  {
   "cell_type": "code",
   "execution_count": 18,
   "id": "fa0481a2-317e-42c2-b466-ca6b8b267f93",
   "metadata": {
    "editable": true,
    "slideshow": {
     "slide_type": ""
    },
    "tags": [
     "hide-input"
    ]
   },
   "outputs": [
    {
     "data": {
      "text/markdown": [
       "|![Two inverting amplifiers connected in series.](lab-b-task-2_2-schematic.png)|\n",
       "|:--:|\n",
       "|**Figure 7:** Two inverting amplifiers connected in series.|"
      ],
      "text/plain": [
       "<IPython.core.display.Markdown object>"
      ]
     },
     "metadata": {},
     "output_type": "display_data"
    }
   ],
   "source": [
    "disp_imgfig(\"lab-b-task-2_2-schematic.png\", \"Two inverting amplifiers connected in series.\")"
   ]
  },
  {
   "cell_type": "markdown",
   "id": "bd907661-af8f-4909-a314-da3573e20272",
   "metadata": {
    "editable": true,
    "slideshow": {
     "slide_type": ""
    },
    "tags": []
   },
   "source": [
    "## Symbolic analysis\n",
    "Assuming that the amplifiers in figure 6 are ideal (realistically; that we are operating in their near-ideal range), using the fact that amplifiers will always \"attempt\" to \"equalize\" the voltages on its two inputs, we obtain the following relation:\n",
    "$$\n",
    "\\left(V_1 - V_\\mathrm{out}\\right) \\frac{R_2}{R_1 + R_2} = -V_\\mathrm{out} \\Longleftrightarrow \\left(V_1 - V_\\mathrm{out}\\right)R_2 = -\\left(R_1 + R_2\\right)V_\\mathrm{out}\n",
    "$$\n",
    "Simplifying the statement on the right-hand side, we get $V_1 R_2 = -R_1 V_\\mathrm{out}$, or equivalently\n",
    "$$\n",
    "H = \\frac{V_\\mathrm{out}}{V_1} = -\\frac{R_2}{R_1}\n",
    "$$\n",
    "which is the result we are looking for."
   ]
  },
  {
   "cell_type": "code",
   "execution_count": 19,
   "id": "bb6824cb-50dc-4296-87bf-9d2ff820d41d",
   "metadata": {
    "editable": true,
    "slideshow": {
     "slide_type": ""
    },
    "tags": [
     "hide-input"
    ]
   },
   "outputs": [
    {
     "data": {
      "text/latex": [
       "\\clearpage"
      ],
      "text/plain": [
       "<IPython.core.display.Latex object>"
      ]
     },
     "metadata": {},
     "output_type": "display_data"
    }
   ],
   "source": [
    "clearpage()"
   ]
  },
  {
   "cell_type": "markdown",
   "id": "4e098af0-b4ab-4c18-8128-7eee7006143f",
   "metadata": {
    "editable": true,
    "slideshow": {
     "slide_type": ""
    },
    "tags": []
   },
   "source": [
    "### Numerical calculations"
   ]
  },
  {
   "cell_type": "code",
   "execution_count": 20,
   "id": "b628098e-1264-4590-ac09-6e4642dd57f3",
   "metadata": {
    "editable": true,
    "slideshow": {
     "slide_type": ""
    },
    "tags": [
     "hide-input"
    ]
   },
   "outputs": [
    {
     "data": {
      "text/markdown": [
       "\n",
       "|    |Calculated gain |Logarithmic gain [dB] |\n",
       "|:--:|:--------------:|:--------------------:|\n",
       "|Amplifier 1 |$-1000.0$ |$60.0$ |\n",
       "|Amplifier 2 |$-100.0$ |$40.0$ |\n",
       "|Amplifier 3 |$-10.0$ |$20.0$ |\n"
      ],
      "text/plain": [
       "<IPython.core.display.Markdown object>"
      ]
     },
     "metadata": {},
     "output_type": "display_data"
    }
   ],
   "source": [
    "_md = rf\"\"\"\n",
    "|    |Calculated gain |Logarithmic gain [dB] |\n",
    "|:--:|:--------------:|:--------------------:|\n",
    "\"\"\"\n",
    "\n",
    "import math\n",
    "\n",
    "R1 = 10.0e3   # input resistance\n",
    "R2 = [10.0e6, 1.0e6, 100.0e3, 10.0e3]    # feedback resistance\n",
    "\n",
    "for n in range(1,4):\n",
    "    gain = -R2[n-1] / R1\n",
    "    log_gain = 20 * math.log10(abs(gain))\n",
    "    \n",
    "    _md += f\"|Amplifier {n} |${gain:.1f}$ |${log_gain:.1f}$ |\\n\"\n",
    "display(Markdown(_md))"
   ]
  },
  {
   "cell_type": "markdown",
   "id": "9381f0b6-dfc4-4b3e-b6fc-20e397e047ff",
   "metadata": {
    "editable": true,
    "slideshow": {
     "slide_type": ""
    },
    "tags": []
   },
   "source": [
    "## Results\n",
    "### Individual amplifiers"
   ]
  },
  {
   "cell_type": "code",
   "execution_count": 21,
   "id": "44b64348-3258-4d87-8bc8-47262da296b1",
   "metadata": {
    "editable": true,
    "slideshow": {
     "slide_type": ""
    },
    "tags": [
     "hide-input"
    ]
   },
   "outputs": [
    {
     "data": {
      "text/markdown": [
       "|![Bode plots for the four inverting amplifiers.             The frequency where the output drops by -3 decibels, is the amplifier's bandwidth](result_task_2-1.png)|\n",
       "|:--:|\n",
       "|**Figure 8:** Bode plots for the four inverting amplifiers.             The frequency where the output drops by -3 decibels, is the amplifier's bandwidth|"
      ],
      "text/plain": [
       "<IPython.core.display.Markdown object>"
      ]
     },
     "metadata": {},
     "output_type": "display_data"
    }
   ],
   "source": [
    "disp_imgfig(\"result_task_2-1.png\", \n",
    "            \"Bode plots for the four inverting amplifiers. \\\n",
    "            The frequency where the output drops by -3 decibels, is the amplifier's bandwidth\")"
   ]
  },
  {
   "cell_type": "markdown",
   "id": "56e27e25-74e7-494e-944b-0a35487a4ed1",
   "metadata": {
    "editable": true,
    "slideshow": {
     "slide_type": ""
    },
    "tags": []
   },
   "source": [
    "We have the Bode plots for the four amplifers above, with the -3 dB frequencies listed in the table below."
   ]
  },
  {
   "cell_type": "code",
   "execution_count": 22,
   "id": "ffced5de-aeec-42ae-9a48-c8d2b1a889ed",
   "metadata": {
    "editable": true,
    "slideshow": {
     "slide_type": ""
    },
    "tags": [
     "hide-input"
    ]
   },
   "outputs": [
    {
     "data": {
      "text/markdown": [
       "\n",
       "|    |Gain $A$ [1] |Maximum frequency $f_{-3\\,\\mathrm{dB}}$ [Hz] |GBW [Hz] |\n",
       "|:--:|:-----------:|:-----------------------------------------------:|:-------:|\n",
       "|Amplifier 1 |$999.0$|$989$|$987629.5$|\n",
       "|Amplifier 2 |$100.0$|$9886$|$988518.8$|\n",
       "|Amplifier 3 |$10.0$|$90163$|$901621.0$|\n",
       "|Amplifier 4 |$1.0$|$495483$|$495482.0$|\n"
      ],
      "text/plain": [
       "<IPython.core.display.Markdown object>"
      ]
     },
     "metadata": {},
     "output_type": "display_data"
    }
   ],
   "source": [
    "file = open(\"result_task_2-1_bode.csv\")   # open file\n",
    "n = sum(len(i) != 0 for i in file.readline().strip().split(\",\")[1:])   # find the number of non-empty columns, except frequency\n",
    "\n",
    "f = []   # frequency\n",
    "x = []   # output values\n",
    "\n",
    "for l in file.readlines():\n",
    "    r = l.strip().split(\",\")\n",
    "    try:\n",
    "        freq = float(eval(r[0])) \n",
    "        v = [float(eval(r[1+i])) for i in range(n)]\n",
    "    except:\n",
    "        continue\n",
    "    f.append(freq)\n",
    "    x.append(v)\n",
    "\n",
    "f_a = np.array(f)\n",
    "x_a = np.array(x)\n",
    "\n",
    "index_low = lambda i: np.max(np.where(x_a[:, i] >= (np.max(x_a[:, i]) - 3.0102)))\n",
    "index_high = lambda i: np.min(np.where(x_a[:, i] <= (np.max(x_a[:, i]) - 3.0102)))\n",
    "\n",
    "x_0 = np.power(10, x_a[0, :]/20)\n",
    "\n",
    "f_low = np.array([f_a[index_low(i)] for i in range(n)])   # lower bound -3 dB frequencies\n",
    "f_high = np.array([f_a[index_high(i)] for i in range(n)])  # upper bound -3 dB frequencies\n",
    "f_th = (f_low + f_high) / 2   # middle -3 dB frequencies\n",
    "\n",
    "_md = rf\"\"\"\n",
    "|    |Gain $A$ [1] |Maximum frequency $f_{{-3\\,\\mathrm{{dB}}}}$ [Hz] |GBW [Hz] |\n",
    "|:--:|:-----------:|:-----------------------------------------------:|:-------:|\n",
    "\"\"\"\n",
    "\n",
    "for i in range(n):\n",
    "    _md += f\"|Amplifier {i+1} |${x_0[i]:.1f}$|${f_th[i]:.0f}$|${x_0[i] * f_th[i]:.1f}$|\\n\"\n",
    "display(Markdown(_md))"
   ]
  },
  {
   "cell_type": "code",
   "execution_count": 23,
   "id": "9315bcf9-1cee-4285-97ac-3af5d5181ec6",
   "metadata": {
    "editable": true,
    "slideshow": {
     "slide_type": ""
    },
    "tags": [
     "hide-input"
    ]
   },
   "outputs": [
    {
     "data": {
      "text/latex": [
       "\\clearpage"
      ],
      "text/plain": [
       "<IPython.core.display.Latex object>"
      ]
     },
     "metadata": {},
     "output_type": "display_data"
    }
   ],
   "source": [
    "clearpage()"
   ]
  },
  {
   "cell_type": "markdown",
   "id": "8e7b3f12-6897-4cc9-b42d-c409c81f201f",
   "metadata": {
    "editable": true,
    "slideshow": {
     "slide_type": ""
    },
    "tags": []
   },
   "source": [
    "### Chained amplifiers"
   ]
  },
  {
   "cell_type": "code",
   "execution_count": 24,
   "id": "ec3d729d-653f-4603-9c14-5e119d2e97b5",
   "metadata": {
    "editable": true,
    "slideshow": {
     "slide_type": ""
    },
    "tags": [
     "hide-input"
    ]
   },
   "outputs": [
    {
     "data": {
      "text/markdown": [
       "|![Bode plots for the two inverting amplifiers in question.             The frequency where the output drops by -3 decibels, is the amplifier's bandwidth](result_task_2-2.png)|\n",
       "|:--:|\n",
       "|**Figure 9:** Bode plots for the two inverting amplifiers in question.             The frequency where the output drops by -3 decibels, is the amplifier's bandwidth|"
      ],
      "text/plain": [
       "<IPython.core.display.Markdown object>"
      ]
     },
     "metadata": {},
     "output_type": "display_data"
    }
   ],
   "source": [
    "disp_imgfig(\"result_task_2-2.png\", \n",
    "            \"Bode plots for the two inverting amplifiers in question. \\\n",
    "            The frequency where the output drops by -3 decibels, is the amplifier's bandwidth\")"
   ]
  },
  {
   "cell_type": "markdown",
   "id": "2a496655-3aab-4e08-8bfd-4ec77a22e67e",
   "metadata": {
    "editable": true,
    "slideshow": {
     "slide_type": ""
    },
    "tags": []
   },
   "source": [
    "## Discussion\n",
    "An idealized operational has theoretically infinite input impedance, zero output impedance and infinite open-loop gain -- whereas a real-world operational amplifier will have finite input impedance, non-zero output impedance and finite open-loop gain. \n",
    "\n",
    "In addition, the closed-loop gain of an idealized amplifier will -- depending on the model being used -- either remain constant for all frequencies, or strictly obey the gain-bandwidth product relation: $\\mathrm{GBW} = A\\,(\\mathrm{gain}) \\cdot f_\\mathrm{BW}\\,(\\mathrm{bandwidth})$. Real-world amplifiers exhibit some form of gain-bandwidth relation, but will -- under specific conditions -- deviate from the proportional relation.\n",
    "\n",
    "### Individual amplifiers\n",
    "We can observe in figure 7 that the amplifiers behave like ideal amplifiers for *very low* frequencies. As the frequency increases, the gain starts decreasing until the trend settles at -20 decibels per decade.\n",
    "\n",
    "|   |Output 1 |Output 2 |Output 3 |Output 4 |\n",
    "|:-:|:-------:|:-------:|:-------:|:-------:|\n",
    "|Comparable gains at $f = 100\\,\\mathrm{Hz}$? |Yes |Yes |Yes |Yes |\n",
    "|Comparable gains at $f = 100\\,\\mathrm{kHz}$? |No |No |No (-3 dB) |Yes |\n",
    "|Closed-loop bandwidth [kHz] |$0.989$ |$9.886$ |$90.163$ |$495.483$ |\n",
    "\n",
    "We can see in the results subsection that, for $A > 1$ and $f < 1.0 \\,\\mathrm{GHz}$, the gain-bandwidth relation is relatively tame. For $f > 1.0\\,\\mathrm{GHz}$, the gain-bandwidth relation starts to break down."
   ]
  },
  {
   "cell_type": "code",
   "execution_count": 25,
   "id": "b3fbb059-737e-48b2-9b17-f0dd76a794c4",
   "metadata": {
    "editable": true,
    "slideshow": {
     "slide_type": ""
    },
    "tags": [
     "hide-input"
    ]
   },
   "outputs": [
    {
     "data": {
      "text/latex": [
       "\\clearpage"
      ],
      "text/plain": [
       "<IPython.core.display.Latex object>"
      ]
     },
     "metadata": {},
     "output_type": "display_data"
    }
   ],
   "source": [
    "clearpage()"
   ]
  },
  {
   "cell_type": "markdown",
   "id": "3970c4d7-1b74-4495-90df-1e5597dbe32f",
   "metadata": {
    "editable": true,
    "slideshow": {
     "slide_type": ""
    },
    "tags": []
   },
   "source": [
    "### Chained amplifiers\n",
    "It doesn't seem as though the performance characteristics of the chained amplifiers has significantly improved compared to that of a single amplifier -- in fact, the bandwidth for the chained amplifiers has slightly decreased.\n",
    "\n",
    "|   |Output 3 |New output 4 |\n",
    "|:-:|:-------:|:-----------:|\n",
    "|Gain [dB] |$10.0$ |$10.0$ |\n",
    "|Bandwidth [kHz] |$239.5$ |$200.2$ |"
   ]
  },
  {
   "cell_type": "markdown",
   "id": "a800143e-2ba6-41ce-bbec-298a080a12f0",
   "metadata": {
    "editable": true,
    "slideshow": {
     "slide_type": ""
    },
    "tags": []
   },
   "source": [
    "# Differentiation\n",
    "## Schematics"
   ]
  },
  {
   "cell_type": "code",
   "execution_count": 26,
   "id": "6ae8454e-59df-49dc-9418-2e7f5b38b44e",
   "metadata": {
    "editable": true,
    "slideshow": {
     "slide_type": ""
    },
    "tags": [
     "hide-input"
    ]
   },
   "outputs": [
    {
     "data": {
      "text/markdown": [
       "|![Circuit diagram of a basic non-inverting differentiator](lab-b-task-3_1-schematic.png)|\n",
       "|:--:|\n",
       "|**Figure 10:** Circuit diagram of a basic non-inverting differentiator|"
      ],
      "text/plain": [
       "<IPython.core.display.Markdown object>"
      ]
     },
     "metadata": {},
     "output_type": "display_data"
    }
   ],
   "source": [
    "disp_imgfig(\"lab-b-task-3_1-schematic.png\", \"Circuit diagram of a basic non-inverting differentiator\")"
   ]
  },
  {
   "cell_type": "markdown",
   "id": "3ff382f7-a62c-47ab-a139-ab020c63fc74",
   "metadata": {
    "editable": true,
    "slideshow": {
     "slide_type": ""
    },
    "tags": []
   },
   "source": [
    "## Symbolic analysis\n",
    "Assuming that the amplifers are ideal, the relation between the non-inverting and the inverting inputs can be expressed as\n",
    "$$\n",
    "    \\left(V_1 - V_\\mathrm{mid}\\right) \\frac{j\\omega L}{R_1 + j\\omega L} = -V_\\mathrm{mid} \\Longleftrightarrow \\left(V_1 - V_\\mathrm{mid}\\right)j\\omega L = -\\left(R_1 + j\\omega L\\right)V_\\mathrm{mid}\n",
    "$$\n",
    "which can be simplified to\n",
    "$$\n",
    "    V_1j\\omega L = -R_1 V_\\mathrm{mid} \\Longleftrightarrow V_\\mathrm{mid} = -\\frac{L}{R_1}\\left(j\\omega V_1\\right)\n",
    "$$\n",
    "Applying the inverse Fourier transform on both sides the equality yields\n",
    "$$\n",
    "    v_\\mathrm{mid}(t) = -\\frac{L}{R_1}\\frac{\\mathrm{d}v_1}{\\mathrm{d}t}(t)\n",
    "$$\n",
    "Since our non-inverting differentiator has an inverting unity amplifier in the second stage, we ultimately get\n",
    "$$\n",
    "    v_\\mathrm{out}(t) = \\frac{L}{R_1}\\frac{\\mathrm{d}v_1}{\\mathrm{d}t}(t)\n",
    "$$\n",
    "\n",
    "### Example with a triangle wave\n",
    "Suppose we have a triangle wave of the form\n",
    "$$\n",
    "    v_0(t) = \\left\\{\\begin{matrix}\n",
    "        \\hat{v} - (4\\hat{v}/T)t, & 0 \\leq t < T/2 \\\\\n",
    "        -3\\hat{v} + (4\\hat{v}/T)t, & T/2 \\leq t < T\n",
    "    \\end{matrix}\\right.\n",
    "$$\n",
    "where $T$ is the period of the triangle wave (in seconds) and $\\hat{v}$ is the amplitude of the triangle wave (in volts). We then feed $v_0$ into the differentiator, so that\n",
    "$$\n",
    "    v_\\mathrm{out}(t) = \\frac{L}{R_1}\\frac{\\mathrm{d}v_0}{\\mathrm{d}t}(t) = \\left\\{\\begin{matrix}\n",
    "        -4\\hat{v}L/(R_1 T), & 0 < t < T/2 \\\\\n",
    "        4\\hat{v}L/(R_1 T), & T/2 < t < T\n",
    "    \\end{matrix}\\right.\n",
    "$$\n",
    "which is a square wave function. We observe that the voltage is scaled by some coefficient $k = 4L/(R_1 T)$. Using $T = 4.00\\,\\mathrm{ms}$, $L = 700\\,\\mathrm{mH}$ and $R_1 = 1.2\\,\\mathrm{k}\\Omega$, we get\n",
    "$$\n",
    "    k = \\frac{4 \\cdot 700\\,\\mathrm{mH}}{1.20\\,\\mathrm{k}\\Omega \\cdot 4.00\\,\\mathrm{ms}} \\approx 0.583\n",
    "$$\n",
    "which means that if $\\hat{v} = 1.00\\,\\mathrm{V}$, we can expect the output voltage magnitude to be $\\hat{v}_\\mathrm{out} = 0.583\\,\\mathrm{V}$."
   ]
  },
  {
   "cell_type": "markdown",
   "id": "1f1e428d-9533-4e58-b98d-d6e41bcb7891",
   "metadata": {
    "editable": true,
    "slideshow": {
     "slide_type": ""
    },
    "tags": []
   },
   "source": [
    "## Results"
   ]
  },
  {
   "cell_type": "code",
   "execution_count": 27,
   "id": "1a970210-f961-43f5-87b1-608de7385e6b",
   "metadata": {
    "editable": true,
    "slideshow": {
     "slide_type": ""
    },
    "tags": [
     "hide-input"
    ]
   },
   "outputs": [
    {
     "data": {
      "text/markdown": [
       "|![Transient analysis of a non-inverting differentiator ($R_1 = 1.20\\,\\mathrm{k}\\Omega$, $L = 700\\,\\mathrm{mH}$)](result_task_3-1.png)|\n",
       "|:--:|\n",
       "|**Figure 11:** Transient analysis of a non-inverting differentiator ($R_1 = 1.20\\,\\mathrm{k}\\Omega$, $L = 700\\,\\mathrm{mH}$)|"
      ],
      "text/plain": [
       "<IPython.core.display.Markdown object>"
      ]
     },
     "metadata": {},
     "output_type": "display_data"
    }
   ],
   "source": [
    "disp_imgfig(\"result_task_3-1.png\", \n",
    "            r\"Transient analysis of a non-inverting differentiator \" + \\\n",
    "            r\"($R_1 = 1.20\\,\\mathrm{k}\\Omega$, $L = 700\\,\\mathrm{mH}$)\")"
   ]
  },
  {
   "cell_type": "markdown",
   "id": "c310b36f-8c61-4c78-8a7f-51671da257f6",
   "metadata": {
    "editable": true,
    "slideshow": {
     "slide_type": ""
    },
    "tags": []
   },
   "source": [
    "## Discussion"
   ]
  },
  {
   "cell_type": "markdown",
   "id": "076966d0-57c4-42db-8fba-b452b8622242",
   "metadata": {
    "editable": true,
    "slideshow": {
     "slide_type": ""
    },
    "tags": []
   },
   "source": [
    "### Transient analysis\n",
    "An interesting quirk that we can observe in the time plot of the output voltage, is the spikes at the edges. Other than that, the analysis isn't particularly interesting -- simply because the circuit works as expected, with correct voltage levels and function behaviors.\n",
    "\n",
    "### Sinusoidal input\n",
    "We know from basic calculus that the derivative of a sinusoidal function is another sinusoidal function that is scaled by its frequency and phase-shifted by $+90^\\circ$. More precisely,\n",
    "\\begin{align*}\n",
    "    \\frac{\\mathrm{d}}{\\mathrm{d}t}\\sin(\\omega t) = \\omega\\cos(\\omega t) && \\frac{\\mathrm{d}}{\\mathrm{d}t}\\cos(\\omega t) = -\\omega\\sin(\\omega t)\n",
    "\\end{align*}\n",
    "meaning that if we were to use $v(t) = \\hat{v}\\cos(\\omega t)$, then we can reasonably expect the output voltage to be\n",
    "$v_\\mathrm{out}(t) = -k\\hat{v}\\sin(\\omega t)$, with $k = \\omega L / R$ being our scaling factor. \n",
    "\n",
    "Interestingly enough, the scaling factor has a physical interpretation to it, since the numerator is the reactance of the differentiator's inductor as a function of frequency. This means that the differentiator functions as a high-pass filter -- letting high-frequency signals pass through, while impeding low-frequency signals."
   ]
  },
  {
   "cell_type": "markdown",
   "id": "393d3e76-7f3d-47aa-b70b-0ade6f8422b7",
   "metadata": {
    "editable": true,
    "slideshow": {
     "slide_type": ""
    },
    "tags": []
   },
   "source": [
    "# Integration\n",
    "## Schematics"
   ]
  },
  {
   "cell_type": "code",
   "execution_count": 28,
   "id": "ef10d949-9e18-4591-ac4c-a1ed99726729",
   "metadata": {
    "editable": true,
    "slideshow": {
     "slide_type": ""
    },
    "tags": [
     "hide-input"
    ]
   },
   "outputs": [
    {
     "data": {
      "text/markdown": [
       "|![Circuit diagram of a basic non-inverting integrator](lab-b-task-4_1-schematic.png)|\n",
       "|:--:|\n",
       "|**Figure 12:** Circuit diagram of a basic non-inverting integrator|"
      ],
      "text/plain": [
       "<IPython.core.display.Markdown object>"
      ]
     },
     "metadata": {},
     "output_type": "display_data"
    }
   ],
   "source": [
    "disp_imgfig(\"lab-b-task-4_1-schematic.png\", \"Circuit diagram of a basic non-inverting integrator\")"
   ]
  },
  {
   "cell_type": "code",
   "execution_count": 29,
   "id": "d9df8a4e-7ea8-45ac-ab4c-c9da34984138",
   "metadata": {
    "editable": true,
    "slideshow": {
     "slide_type": ""
    },
    "tags": [
     "hide-input"
    ]
   },
   "outputs": [
    {
     "data": {
      "text/latex": [
       "\\clearpage"
      ],
      "text/plain": [
       "<IPython.core.display.Latex object>"
      ]
     },
     "metadata": {},
     "output_type": "display_data"
    }
   ],
   "source": [
    "clearpage()"
   ]
  },
  {
   "cell_type": "markdown",
   "id": "c437613b-1f84-4f4c-ac81-00de1e77f70f",
   "metadata": {
    "editable": true,
    "slideshow": {
     "slide_type": ""
    },
    "tags": []
   },
   "source": [
    "## Symbolic analysis\n",
    "Assuming that the amplifiers are ideal, we can pretend as though the current through the input resistor is \"flowing\" directly to ground -- since ideal amplifier will always \"attempt\" to eliminate the difference between its two inputs. With that in mind, the time-domain analysis becomes much easier:\n",
    "$$\n",
    "    -v_\\mathrm{in} + iR = 0 \n",
    "$$\n",
    "By Kircchoff's current law, the current through the resistor is equal to the current through the feedback capacitor:\n",
    "$$\n",
    "    i = \\frac{\\mathrm{d}v_C}{\\mathrm{d}t}\n",
    "$$\n",
    "Since the current through the capacitor can only flow from the junction to the amplifer output, $v_c = - v_\\mathrm{out}$, meaning that\n",
    "$$\n",
    "    -v_\\mathrm{in} - RC\\frac{\\mathrm{d}v_\\mathrm{mid}}{\\mathrm{d}t} = 0\n",
    "$$\n",
    "or equivalently,\n",
    "$$\n",
    "    \\frac{\\mathrm{d}v_\\mathrm{mid}}{\\mathrm{d}t} = -\\frac{1}{RC}v_\\mathrm{in}\n",
    "$$\n",
    "Integrating on both sides yields\n",
    "$$\n",
    "    v_\\mathrm{mid} - v_0 = -\\frac{1}{RC}\\int_0^t{v_\\mathrm{in}(t')\\,\\mathrm{d}t'}\n",
    "$$\n",
    "and with $v_0 = 0$, we get\n",
    "$$\n",
    "    v_\\mathrm{mid} = -\\frac{1}{RC}\\int_0^t{v_\\mathrm{in}(t')\\,\\mathrm{d}t'}\n",
    "$$\n",
    "Since we have an inverting amplifier in the second stage, we get\n",
    "$$\n",
    "    v_\\mathrm{out} = \\frac{A}{RC}\\int_0^t{v_\\mathrm{in}(t')\\,\\mathrm{d}t'}\n",
    "$$\n",
    "where $A = R_f / R_i$ is the amplifier gain.\n",
    "\n",
    "### Example with sinusoidal input\n",
    "From basic calculus, we recall that\n",
    "$$\n",
    "    \\int_0^t{\\sin(\\omega t')\\,\\mathrm{d}t'} = \\frac{1-\\cos(\\omega t)}{\\omega}\n",
    "$$\n",
    "and with $v_\\mathrm{in} = \\hat{v}\\sin(\\omega t')$, we can reasonably expect the output voltage to be $v_\\mathrm{out} = k\\left[1-\\cos(\\omega t)\\right]$, with $k = A/(\\omega RC)$ being our scaling factor.\n",
    "\n",
    "We can see in the diagram for the middle circuit that $A = 628.3\\,\\mathrm{k}\\Omega / 10.0\\,\\mathrm{k}\\Omega = 62.83$, which is close to the true value of $2\\pi \\cdot 10$. For the sake of clarity, we will use $A = 2\\pi\\cdot 10$. Henceforth\n",
    "$$\n",
    "    k = \\frac{2\\pi}{\\omega} \\cdot \\frac{10}{RC} = \\frac{10}{fRC}\n",
    "$$\n",
    "where $f$ is the *temporal* frequency of the input signal. With $\\hat{v} = 1.0\\,\\mathrm{V}$, $f = 1000\\,\\mathrm{Hz}$, $R = 10.0\\,\\mathrm{k}\\Omega$ and $C = 1.0\\,\\mu\\mathrm{F}$, the output voltage magnitude will be\n",
    "$$\n",
    "    \\hat{v}_\\mathrm{out} = k\\hat{v} = 1.0\\,\\mathrm{V}\\cdot\\frac{10}{1000\\,\\mathrm{Hz} \\cdot 10.0\\,\\mathrm{k}\\Omega \\cdot 1.0\\,\\mu\\mathrm{F}} \\approxeq 1.0\\,\\mathrm{V}\n",
    "$$\n",
    "so that $v_\\mathrm{min} = 0.0\\,\\mathrm{V}$ and $v_\\mathrm{max} = 2.0\\,\\mathrm{V}$."
   ]
  },
  {
   "cell_type": "markdown",
   "id": "b2216fe9-cae3-4836-ab2d-118b11680452",
   "metadata": {
    "editable": true,
    "slideshow": {
     "slide_type": ""
    },
    "tags": []
   },
   "source": [
    "## Results"
   ]
  },
  {
   "cell_type": "code",
   "execution_count": 30,
   "id": "7128a209-1150-409e-add6-6cf2cc017e2f",
   "metadata": {
    "editable": true,
    "slideshow": {
     "slide_type": ""
    },
    "tags": [
     "hide-input"
    ]
   },
   "outputs": [
    {
     "data": {
      "text/markdown": [
       "|![Transient analysis of two integrators (blue and orange trace)             and a reference signal (yellow trace)](result_task_4-1.png)|\n",
       "|:--:|\n",
       "|**Figure 13:** Transient analysis of two integrators (blue and orange trace)             and a reference signal (yellow trace)|"
      ],
      "text/plain": [
       "<IPython.core.display.Markdown object>"
      ]
     },
     "metadata": {},
     "output_type": "display_data"
    }
   ],
   "source": [
    "disp_imgfig(\"result_task_4-1.png\", \n",
    "            \"Transient analysis of two integrators (blue and orange trace) \\\n",
    "            and a reference signal (yellow trace)\")"
   ]
  },
  {
   "cell_type": "markdown",
   "id": "489366d0-ed45-41ad-bec7-f7c5fbbbbca4",
   "metadata": {
    "editable": true,
    "slideshow": {
     "slide_type": ""
    },
    "tags": []
   },
   "source": [
    "## Discussion\n",
    "The simulated results aren't particularly suprising or interesting, since we have already covered most of the nuances in the symbolic analysis part of this section. With that said, the output voltage magnitude of the first integrator (see figure 13; blue trace) is neither an integer multiple, nor a rational multiple, of the input voltage magnitude. The output voltage magnitude of the second integrator (see figure 13; orange trace) *is* an integer multiple of the input voltage magnitude -- as discussed in the symbolic analysis part."
   ]
  },
  {
   "cell_type": "code",
   "execution_count": 31,
   "id": "8e35443f-1c20-42da-98e6-cf83ce56a55f",
   "metadata": {
    "editable": true,
    "slideshow": {
     "slide_type": ""
    },
    "tags": [
     "hide-input"
    ]
   },
   "outputs": [
    {
     "data": {
      "text/latex": [
       "\\clearpage"
      ],
      "text/plain": [
       "<IPython.core.display.Latex object>"
      ]
     },
     "metadata": {},
     "output_type": "display_data"
    }
   ],
   "source": [
    "clearpage()"
   ]
  },
  {
   "cell_type": "markdown",
   "id": "8a631e59-0fca-4a85-bff7-a62d9dc9d273",
   "metadata": {
    "editable": true,
    "slideshow": {
     "slide_type": ""
    },
    "tags": []
   },
   "source": [
    "# Wien bridge filter with input\n",
    "## Schematics"
   ]
  },
  {
   "cell_type": "code",
   "execution_count": 32,
   "id": "030de10a-b72f-4a7e-ab4c-e7c8d75b6221",
   "metadata": {
    "editable": true,
    "slideshow": {
     "slide_type": ""
    },
    "tags": [
     "hide-input"
    ]
   },
   "outputs": [
    {
     "data": {
      "text/markdown": [
       "|![Circuit diagram of a Wien bridge filter](lab-b-task-5_1-schematic.png)|\n",
       "|:--:|\n",
       "|**Figure 14:** Circuit diagram of a Wien bridge filter|"
      ],
      "text/plain": [
       "<IPython.core.display.Markdown object>"
      ]
     },
     "metadata": {},
     "output_type": "display_data"
    }
   ],
   "source": [
    "disp_imgfig(\"lab-b-task-5_1-schematic.png\", \"Circuit diagram of a Wien bridge filter\")"
   ]
  },
  {
   "cell_type": "markdown",
   "id": "d6c5ce00-610b-44c5-8e55-a0d870f1bb8a",
   "metadata": {
    "editable": true,
    "raw_mimetype": "",
    "slideshow": {
     "slide_type": ""
    },
    "tags": []
   },
   "source": [
    "## Symbolic analysis\n",
    "We only need to analyze the denominator of the transfer function, which describes the poles of the system. The characteristic equation of the system is given by\n",
    "$$\n",
    "    \\chi(s) = s^2 + \\frac{3-G}{RC}s + \\left(\\frac{1}{RC}\\right)^2\n",
    "$$\n",
    "which lets us quickly identify the natural frequency $\\omega_0$ and the damping factor $\\zeta$, since the characteristic equation of a generic second-order system is\n",
    "$$\n",
    "    \\chi(s) = s^2 + 2\\zeta\\omega_0 s + \\omega_0^2\n",
    "$$\n",
    "With that in mind, we have\n",
    "\\begin{align*}\n",
    "    \\omega_0 = \\frac{1}{RC} && \\zeta = \\frac{3-G}{2}\n",
    "\\end{align*}\n",
    "and with $f_0 = \\omega_0 / 2\\pi$ and $Q = 1/(2\\zeta)$, we get\n",
    "\\begin{align*}\n",
    "    f_0 = \\frac{1}{2\\pi RC} && Q = \\frac{1}{2(3-G)/2} = \\frac{1}{3-G}\n",
    "\\end{align*}\n",
    "\n",
    "### Numerical example\n",
    "Using $R = 10.0\\,\\mathrm{k}\\Omega$ and $C = 10.0\\,\\mathrm{nF}$, we get\n",
    "\\begin{align*}\n",
    "    \\omega_0 &= \\frac{1}{10.0\\,\\mathrm{k}\\Omega \\cdot 10.0\\,\\mathrm{nF}} \\approx 10.0\\,\\mathrm{kHz} \\\\\n",
    "    f_0 &= \\frac{1}{2\\pi \\cdot 10.0\\,\\mathrm{k}\\Omega \\cdot 10.0\\,\\mathrm{nF}} \\approx 1.59\\,\\mathrm{kHz} \\\\\n",
    "    \\zeta(G = 2) &= \\frac{3 - 2}{2} = 0.50 \\\\\n",
    "    Q(G = 2) &= \\frac{1}{3 - 2} = 1.00\n",
    "\\end{align*}"
   ]
  },
  {
   "cell_type": "markdown",
   "id": "8d73da51-b4e5-48dc-a56f-2644200aac13",
   "metadata": {
    "editable": true,
    "slideshow": {
     "slide_type": ""
    },
    "tags": []
   },
   "source": [
    "## Results\n",
    "### AC analysis of the original circuit"
   ]
  },
  {
   "cell_type": "code",
   "execution_count": 33,
   "id": "64ea9828-b2ca-4a54-8fe2-2d606121fc5d",
   "metadata": {
    "editable": true,
    "slideshow": {
     "slide_type": ""
    },
    "tags": [
     "hide-input"
    ]
   },
   "outputs": [
    {
     "data": {
      "text/markdown": [
       "|![A Bode plot of the original circuit](result_task_5-1.png)|\n",
       "|:--:|\n",
       "|**Figure 15:** A Bode plot of the original circuit|"
      ],
      "text/plain": [
       "<IPython.core.display.Markdown object>"
      ]
     },
     "metadata": {},
     "output_type": "display_data"
    }
   ],
   "source": [
    "disp_imgfig(\"result_task_5-1.png\", \"A Bode plot of the original circuit\")"
   ]
  },
  {
   "cell_type": "markdown",
   "id": "b4131e4e-db14-4487-adc5-0005da043704",
   "metadata": {
    "editable": true,
    "slideshow": {
     "slide_type": ""
    },
    "tags": []
   },
   "source": [
    "### Transient analysis of the altered circuit"
   ]
  },
  {
   "cell_type": "code",
   "execution_count": 34,
   "id": "e2645a20-ec5e-42ab-8c6f-8e58ac8b2a4d",
   "metadata": {
    "editable": true,
    "slideshow": {
     "slide_type": ""
    },
    "tags": [
     "hide-input"
    ]
   },
   "outputs": [
    {
     "data": {
      "text/markdown": [
       "|![Transient analysis of the altered circuit in time domain ($R_{f_2} = 32\\,\\mathrm{k}\\Omega$, run time $T = 1.000\\,\\mathrm{s}$, time step $\\Delta t = 10\\,\\mu\\mathrm{s}$, truncated to $t = 10.0\\,\\mathrm{ms}$)](result_task_5-1-b.png)|\n",
       "|:--:|\n",
       "|**Figure 16:** Transient analysis of the altered circuit in time domain ($R_{f_2} = 32\\,\\mathrm{k}\\Omega$, run time $T = 1.000\\,\\mathrm{s}$, time step $\\Delta t = 10\\,\\mu\\mathrm{s}$, truncated to $t = 10.0\\,\\mathrm{ms}$)|"
      ],
      "text/plain": [
       "<IPython.core.display.Markdown object>"
      ]
     },
     "metadata": {},
     "output_type": "display_data"
    }
   ],
   "source": [
    "disp_imgfig(\"result_task_5-1-b.png\",\n",
    "            \"Transient analysis of the altered circuit in time domain \" + \\\n",
    "            r\"($R_{f_2} = 32\\,\\mathrm{k}\\Omega$, \" + \\\n",
    "            r\"run time $T = 1.000\\,\\mathrm{s}$, \" + \\\n",
    "            r\"time step $\\Delta t = 10\\,\\mu\\mathrm{s}$, \" + \\\n",
    "            r\"truncated to $t = 10.0\\,\\mathrm{ms}$)\")"
   ]
  },
  {
   "cell_type": "code",
   "execution_count": 35,
   "id": "6d925d0e-18c6-43a0-bf3c-0e5fd4536b7d",
   "metadata": {
    "editable": true,
    "slideshow": {
     "slide_type": ""
    },
    "tags": [
     "hide-input",
     "hide-cell"
    ]
   },
   "outputs": [],
   "source": [
    "%%capture _\n",
    "file = open(\"result_task_5-1_transient.csv\")   # open file\n",
    "\n",
    "t = []   # time\n",
    "x = []   # output value\n",
    "\n",
    "for l in file.readlines():\n",
    "    r = l.strip().split(\",\")\n",
    "    \n",
    "    try:\n",
    "        T = float(eval(r[0])) \n",
    "        value = float(eval(r[1]))\n",
    "    except:\n",
    "        continue\n",
    "    t.append(T)\n",
    "    x.append(value)\n",
    "\n",
    "# Clean up the namespace\n",
    "del T\n",
    "\n",
    "t_a = np.array(t)\n",
    "x_a = np.array(x)\n",
    "\n",
    "# Perform normalized FFT\n",
    "bins, X, peaks = norm_fft(t_a, x_a, thr=0.25)\n",
    "X_mag = np.abs(X)\n",
    "\n",
    "freq, coeff = bins[peaks], X_mag[peaks]\n",
    "\n",
    "# Plot the figure\n",
    "fig = plt.figure()\n",
    "plt.plot(bins, X_mag)\n",
    "plt.plot(freq, coeff, \"o\")\n",
    "plt.xlim(5.0e2)\n",
    "\n",
    "for xy in zip(freq, coeff):\n",
    "    plt.annotate('(%.0f, %.3f)' % xy, xy=xy, textcoords='data')\n",
    "\n",
    "plt.xlabel(\"Frequency [Hz]\")\n",
    "plt.ylabel(\"Coefficient [V]\")\n",
    "\n",
    "plt.xscale(\"log\")\n",
    "plt.grid()"
   ]
  },
  {
   "cell_type": "code",
   "execution_count": 36,
   "id": "9406fee1-ce67-4a5b-b005-6dda57caa6fc",
   "metadata": {
    "editable": true,
    "slideshow": {
     "slide_type": ""
    },
    "tags": [
     "hide-input"
    ]
   },
   "outputs": [
    {
     "data": {
      "text/markdown": [
       "|![Normalized FFT of the transient analysis values](tmpfigs/tmpfig_17.png)|\n",
       "|:--:|\n",
       "|**Figure 17:** Normalized FFT of the transient analysis values|"
      ],
      "text/plain": [
       "<IPython.core.display.Markdown object>"
      ]
     },
     "metadata": {},
     "output_type": "display_data"
    }
   ],
   "source": [
    "disp_pltfig(fig, \"Normalized FFT of the transient analysis values\")"
   ]
  },
  {
   "cell_type": "markdown",
   "id": "1ee41c83-3920-4da1-b394-9df7670ff10b",
   "metadata": {
    "editable": true,
    "slideshow": {
     "slide_type": ""
    },
    "tags": []
   },
   "source": [
    "### Effects of a pulse signal at the input"
   ]
  },
  {
   "cell_type": "code",
   "execution_count": 37,
   "id": "84a627a7-b134-42ee-83ab-2c5e467e2d8f",
   "metadata": {
    "editable": true,
    "slideshow": {
     "slide_type": ""
    },
    "tags": [
     "hide-input"
    ]
   },
   "outputs": [
    {
     "data": {
      "text/markdown": [
       "|![Transient analysis of the altered circuit with a pulse signal at the input($R_{f_2} = 35\\,\\mathrm{k}\\Omega$, run time $T = 1.000,\\mathrm{s}$, time step $\\Delta t = 10\\,\\mu\\mathrm{s}$, truncated to $t = 10.0\\,\\mathrm{ms}$)](result_task_5-2.png)|\n",
       "|:--:|\n",
       "|**Figure 18:** Transient analysis of the altered circuit with a pulse signal at the input($R_{f_2} = 35\\,\\mathrm{k}\\Omega$, run time $T = 1.000,\\mathrm{s}$, time step $\\Delta t = 10\\,\\mu\\mathrm{s}$, truncated to $t = 10.0\\,\\mathrm{ms}$)|"
      ],
      "text/plain": [
       "<IPython.core.display.Markdown object>"
      ]
     },
     "metadata": {},
     "output_type": "display_data"
    }
   ],
   "source": [
    "disp_imgfig(\"result_task_5-2.png\",\n",
    "            \"Transient analysis of the altered circuit with a pulse signal at the input\" + \\\n",
    "            r\"($R_{f_2} = 35\\,\\mathrm{k}\\Omega$, \" + \\\n",
    "            r\"run time $T = 1.000,\\mathrm{s}$, \" + \\\n",
    "            r\"time step $\\Delta t = 10\\,\\mu\\mathrm{s}$, \" + \\\n",
    "            r\"truncated to $t = 10.0\\,\\mathrm{ms}$)\")"
   ]
  },
  {
   "cell_type": "code",
   "execution_count": 38,
   "id": "cf541de9-c2c7-4616-9a4c-ba561db7c1b5",
   "metadata": {
    "editable": true,
    "slideshow": {
     "slide_type": ""
    },
    "tags": [
     "hide-cell",
     "hide-input"
    ]
   },
   "outputs": [],
   "source": [
    "%%capture _\n",
    "file = open(\"result_task_5-2_transient.csv\")   # open file\n",
    "\n",
    "t = []   # time\n",
    "x = []   # output value\n",
    "\n",
    "for l in file.readlines():\n",
    "    r = l.strip().split(\",\")\n",
    "    \n",
    "    try:\n",
    "        T = float(eval(r[0])) \n",
    "        value = float(eval(r[1]))\n",
    "    except:\n",
    "        continue\n",
    "    t.append(T)\n",
    "    x.append(value)\n",
    "\n",
    "# Clean up the namespace\n",
    "del T\n",
    "\n",
    "t_a = np.array(t)\n",
    "x_a = np.array(x)\n",
    "\n",
    "# Perform normalized FFT\n",
    "bins, X, peaks = norm_fft(t_a, x_a, thr=0.25)\n",
    "X_mag = np.abs(X)\n",
    "\n",
    "freq, coeff = bins[peaks], X_mag[peaks]\n",
    "\n",
    "# Plot the figure\n",
    "fig = plt.figure()\n",
    "plt.plot(bins, X_mag)\n",
    "plt.plot(freq, coeff, \"o\")\n",
    "plt.xlim(5.0e2)\n",
    "\n",
    "for xy in zip(freq, coeff):\n",
    "    plt.annotate('(%.0f, %.3f)' % xy, xy=xy, textcoords='data')\n",
    "\n",
    "plt.xlabel(\"Frequency [Hz]\")\n",
    "plt.ylabel(\"Coefficient [V]\")\n",
    "\n",
    "plt.xscale(\"log\")\n",
    "plt.grid()"
   ]
  },
  {
   "cell_type": "code",
   "execution_count": 39,
   "id": "7e8fbffb-556c-4f49-9133-525a0f2d1cc8",
   "metadata": {
    "editable": true,
    "slideshow": {
     "slide_type": ""
    },
    "tags": [
     "hide-input"
    ]
   },
   "outputs": [
    {
     "data": {
      "text/markdown": [
       "|![Normalized FFT of the transient analysis values](tmpfigs/tmpfig_19.png)|\n",
       "|:--:|\n",
       "|**Figure 19:** Normalized FFT of the transient analysis values|"
      ],
      "text/plain": [
       "<IPython.core.display.Markdown object>"
      ]
     },
     "metadata": {},
     "output_type": "display_data"
    }
   ],
   "source": [
    "disp_pltfig(fig, \"Normalized FFT of the transient analysis values\")"
   ]
  },
  {
   "cell_type": "markdown",
   "id": "645d1cfb-c01e-4ed2-94ce-138e0949b754",
   "metadata": {
    "editable": true,
    "slideshow": {
     "slide_type": ""
    },
    "tags": []
   },
   "source": [
    "## Discussion\n",
    "### Altering the original circuit\n",
    "If we were to alter the original circuit, so that we get a high Q factor, then we can expect strong resonance from the circuit. What this practically means, is that the Bode plot becomes \"sharper\" around the resonant frequency. Additionally, the \"steepness\" of the phase diagram becomes more severe as the Q factor increases.\n",
    "\n",
    "### Describing the altered circuit\n",
    "It isn't immediately obvious what is going on under the hood if we were to just look at the voltage at the output with respect to time (see figure 16), though there are clues that we can pick up on without having to look at the frequency components of the signal. From the very beginning, the input signal dominates as the system does not have enough internal energy to \"overpower\" the input signal -- but as the system starts resonating, it starts building up internal energy until it ultimately overpowers the input signal. We finally have a steady state, where the system's resonant frequency dominates.\n",
    "\n",
    "We can also observe this behavior when we break down the signal into its frequency components (see figure 17). The three peaks shown in the figure are the ones with a coefficient of at least $0.25\\,\\mathrm{V}$ -- this threshold was chosen so that the plot wouldn't get too crowded with insignificant peaks. The most obvious peak is the one at the system's resonant frequency at $f = 1556\\,\\mathrm{Hz}$, which the system settles to as time progresses. The other peak is at $f = 3113\\,\\mathrm{Hz}$, which is roughly double the resonant frequency. The final peak is at $f = 10000\\,\\mathrm{Hz}$, which is the frequency of our injected signal.\n",
    "\n",
    "### Effects of a pulse signal at the input\n",
    "We can see in the time domain result (???) that the figure starts oscillating on its own as soon as a voltage is provided at the input. Even as the voltage is removed from the input -- as is the case with a brief pulse -- the oscillation is self-sustaining and remarkably stable. We can see in the frequency decomposition of the transient analysis values (see figure ???) that the two strongest peaks are at the system's resonant frequency and the system's second harmonic respectively. The other peaks are probably caused by the harmonics contained in the initial square pulse (see figure ???)."
   ]
  },
  {
   "cell_type": "markdown",
   "id": "a7544b35-dc97-4344-b4f4-52780a0f2fca",
   "metadata": {
    "editable": true,
    "slideshow": {
     "slide_type": ""
    },
    "tags": []
   },
   "source": [
    "# Wien bridge without input\n",
    "## Schematics"
   ]
  },
  {
   "cell_type": "code",
   "execution_count": 40,
   "id": "b4c6fa75-99bb-4dc0-b3b1-ae66936d07ae",
   "metadata": {
    "editable": true,
    "slideshow": {
     "slide_type": ""
    },
    "tags": [
     "hide-input"
    ]
   },
   "outputs": [
    {
     "data": {
      "text/markdown": [
       "|![Circuit diagram of a test Wien bridge oscillator](lab-b-task-5_3-schematic.png)|\n",
       "|:--:|\n",
       "|**Figure 20:** Circuit diagram of a test Wien bridge oscillator|"
      ],
      "text/plain": [
       "<IPython.core.display.Markdown object>"
      ]
     },
     "metadata": {},
     "output_type": "display_data"
    }
   ],
   "source": [
    "disp_imgfig(\"lab-b-task-5_3-schematic.png\", \"Circuit diagram of a test Wien bridge oscillator\")"
   ]
  },
  {
   "cell_type": "code",
   "execution_count": 43,
   "id": "a167bbd8-3991-4e12-9b86-d394b3678a79",
   "metadata": {
    "editable": true,
    "slideshow": {
     "slide_type": ""
    },
    "tags": [
     "hide-input"
    ]
   },
   "outputs": [
    {
     "data": {
      "text/latex": [
       "\\clearpage"
      ],
      "text/plain": [
       "<IPython.core.display.Latex object>"
      ]
     },
     "metadata": {},
     "output_type": "display_data"
    }
   ],
   "source": [
    "clearpage()"
   ]
  },
  {
   "cell_type": "markdown",
   "id": "047929f1-dd82-4304-bbb1-f2f72402c5e4",
   "metadata": {
    "editable": true,
    "slideshow": {
     "slide_type": ""
    },
    "tags": []
   },
   "source": [
    "## Results"
   ]
  },
  {
   "cell_type": "code",
   "execution_count": 41,
   "id": "b0fc79d3-69cf-4380-b4d3-158685577375",
   "metadata": {
    "editable": true,
    "slideshow": {
     "slide_type": ""
    },
    "tags": [
     "hide-input"
    ]
   },
   "outputs": [
    {
     "data": {
      "text/markdown": [
       "|![Transient analysis of a Wien bridge oscillator](result_task_5-3.png)|\n",
       "|:--:|\n",
       "|**Figure 21:** Transient analysis of a Wien bridge oscillator|"
      ],
      "text/plain": [
       "<IPython.core.display.Markdown object>"
      ]
     },
     "metadata": {},
     "output_type": "display_data"
    }
   ],
   "source": [
    "disp_imgfig(\"result_task_5-3.png\", \"Transient analysis of a Wien bridge oscillator\")"
   ]
  },
  {
   "cell_type": "markdown",
   "id": "0138ef2d-b230-4fee-b319-51e8df799733",
   "metadata": {
    "editable": true,
    "raw_mimetype": "",
    "slideshow": {
     "slide_type": ""
    },
    "tags": []
   },
   "source": [
    "## Discussion"
   ]
  },
  {
   "cell_type": "markdown",
   "id": "6c9d5e10-9f95-4a5a-a9df-4057d54cdc69",
   "metadata": {
    "editable": true,
    "slideshow": {
     "slide_type": ""
    },
    "tags": []
   },
   "source": [
    "The provided circuit diagram does *not* depict a self-starting oscillator, as it is in the inverting configuration -- which does not satisfy the Barkhausen conditions. The circuit diagram that is depicted in this section *does* start, but only if an initial input signal is provided.\n",
    "\n",
    "In practice, thermal noise and internal imperfections are sufficient to start the oscillation, so long as the loop gain is sufficiently high. This ultimately means that the resistances $R_f$ and $R_g$ must be carefully chosen in order for the loop gain to be greater than or equal to 1. For most practical applications, $R_f$ and $R_g$ are chosen so that $R_f / R_g \\geq 2$."
   ]
  },
  {
   "cell_type": "markdown",
   "id": "eba6633f-9c71-4d9d-9096-cfa138dd7d2b",
   "metadata": {
    "editable": true,
    "hidden": true,
    "slideshow": {
     "slide_type": ""
    },
    "tags": [
     "hide-cell"
    ]
   },
   "source": [
    "# Administration - rendering\n",
    "If you are seeing this section, then this notebook has been improperly rendered - and will be littered with code and other cells that are supposed to be hidden from general readers.\n",
    "\n",
    "The code below renders this notebook into a PDF file. As the notebook itself has a compliant name, the PDF file will also be rendered with a compliant name."
   ]
  },
  {
   "cell_type": "code",
   "execution_count": 45,
   "id": "c277a82e-574d-4e05-a116-f8d508d618aa",
   "metadata": {
    "editable": true,
    "hidden": true,
    "slideshow": {
     "slide_type": ""
    },
    "tags": [
     "hide-cell"
    ]
   },
   "outputs": [
    {
     "name": "stderr",
     "output_type": "stream",
     "text": [
      " I: Exporting notebook as PDF... (output file: FYS3220_LAB_B_V25_jicalder.pdf)\n",
      " I: Current path: /home/johnc/Documents/Notebooks/FYS3220_LAB_B_V25_jicalder\n",
      "[NbConvertApp] Converting notebook FYS3220_LAB_B_V25_jicalder.ipynb to pdf\n",
      "[NbConvertApp] Writing 54752 bytes to notebook.tex\n",
      "[NbConvertApp] Building PDF\n",
      "[NbConvertApp] Running xelatex 3 times: ['xelatex', 'notebook.tex', '-quiet']\n",
      "[NbConvertApp] Running bibtex 1 time: ['bibtex', 'notebook']\n",
      "[NbConvertApp] WARNING | bibtex had problems, most likely because there were no citations\n",
      "[NbConvertApp] PDF successfully created\n",
      "[NbConvertApp] Writing 1131095 bytes to FYS3220_LAB_B_V25_jicalder.pdf\n"
     ]
    }
   ],
   "source": [
    "# The question is: can a cell hide itself\n",
    "print(f\" I: Exporting notebook as PDF... (output file: {pdfname})\", file=sys.stderr)\n",
    "print(f\" I: Current path: {os.path.realpath('.')}\", file=sys.stderr)\n",
    "_ = os.system(f'\\\n",
    "jupyter nbconvert \\\n",
    "--to pdf \\\n",
    "--TagRemovePreprocessor.remove_cell_tags=\"hide-cell\" \\\n",
    "--TagRemovePreprocessor.remove_input_tags=\"hide-input\" \\\n",
    "{nbname}')\n",
    "\n",
    "# --- Nothing that is hidden, can be shown beyond this point --- #"
   ]
  }
 ],
 "metadata": {
  "authors": [
   {
    "name": "John Isaac Calderon"
   }
  ],
  "kernelspec": {
   "display_name": "Python 3 (ipykernel)",
   "language": "python",
   "name": "python3"
  },
  "language_info": {
   "codemirror_mode": {
    "name": "ipython",
    "version": 3
   },
   "file_extension": ".py",
   "mimetype": "text/x-python",
   "name": "python",
   "nbconvert_exporter": "python",
   "pygments_lexer": "ipython3",
   "version": "3.12.3"
  },
  "title": "FYS3220 -- LAB B: Common electronic circuits"
 },
 "nbformat": 4,
 "nbformat_minor": 5
}
